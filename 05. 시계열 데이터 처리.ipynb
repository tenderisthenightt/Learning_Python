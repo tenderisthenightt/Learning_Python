{
 "cells": [
  {
   "cell_type": "code",
   "execution_count": 4,
   "id": "a7fda7fc",
   "metadata": {},
   "outputs": [],
   "source": [
    "import numpy as np\n",
    "import pandas as pd"
   ]
  },
  {
   "cell_type": "markdown",
   "id": "a966da58",
   "metadata": {},
   "source": [
    "# DatetimeIndex\n",
    "- pd.to_datetime() : 문자열을 날짜/시간의 자료형인 datetime 자료형으로 바꿔주는 함수\n",
    "- pd.date_range() : 시작일과 종료일 또는 시작일과 기간을 입력하면 범위내의 인덱스를 자동으로 생성\n",
    "- 시계열 자료 : 인덱스에 날짜나 시간이 오는 데이터\n",
    "- 판다스에서 시계열 자료를 생성하려면 인덱스를 DatetimeIndex 자료형으로 만들어야 함"
   ]
  },
  {
   "cell_type": "code",
   "execution_count": 12,
   "id": "7d7a86f7",
   "metadata": {},
   "outputs": [
    {
     "name": "stdout",
     "output_type": "stream",
     "text": [
      "<class 'list'>\n"
     ]
    }
   ],
   "source": [
    "date_str = ['2000, 6, 6', '1999, 8, 2', '1997, 2, 14']\n",
    "print(type(date_str))"
   ]
  },
  {
   "cell_type": "code",
   "execution_count": 13,
   "id": "52ffdd88",
   "metadata": {},
   "outputs": [
    {
     "data": {
      "text/plain": [
       "DatetimeIndex(['2000-06-06', '1999-08-02', '1997-02-14'], dtype='datetime64[ns]', freq=None)"
      ]
     },
     "execution_count": 13,
     "metadata": {},
     "output_type": "execute_result"
    }
   ],
   "source": [
    "idx = pd.to_datetime(date_str)\n",
    "idx\n",
    "# DatetimeIndex로 객체가 바뀜"
   ]
  },
  {
   "cell_type": "code",
   "execution_count": 14,
   "id": "87f50df2",
   "metadata": {},
   "outputs": [
    {
     "data": {
      "text/plain": [
       "2000-06-06    0.401306\n",
       "1999-08-02    0.667462\n",
       "1997-02-14    0.205412\n",
       "dtype: float64"
      ]
     },
     "execution_count": 14,
     "metadata": {},
     "output_type": "execute_result"
    }
   ],
   "source": [
    "# Series\n",
    "s = pd.Series(np.random.rand(3), index=idx)\n",
    "s"
   ]
  },
  {
   "cell_type": "code",
   "execution_count": 15,
   "id": "e5fe1ee0",
   "metadata": {},
   "outputs": [
    {
     "data": {
      "text/plain": [
       "DatetimeIndex(['2022-04-02', '2022-04-03', '2022-04-04', '2022-04-05',\n",
       "               '2022-04-06', '2022-04-07', '2022-04-08', '2022-04-09',\n",
       "               '2022-04-10', '2022-04-11', '2022-04-12', '2022-04-13',\n",
       "               '2022-04-14', '2022-04-15', '2022-04-16', '2022-04-17',\n",
       "               '2022-04-18', '2022-04-19', '2022-04-20', '2022-04-21',\n",
       "               '2022-04-22', '2022-04-23', '2022-04-24', '2022-04-25',\n",
       "               '2022-04-26', '2022-04-27', '2022-04-28', '2022-04-29',\n",
       "               '2022-04-30', '2022-05-01', '2022-05-02', '2022-05-03',\n",
       "               '2022-05-04', '2022-05-05', '2022-05-06', '2022-05-07',\n",
       "               '2022-05-08', '2022-05-09', '2022-05-10', '2022-05-11',\n",
       "               '2022-05-12', '2022-05-13', '2022-05-14', '2022-05-15',\n",
       "               '2022-05-16', '2022-05-17', '2022-05-18', '2022-05-19',\n",
       "               '2022-05-20', '2022-05-21', '2022-05-22', '2022-05-23',\n",
       "               '2022-05-24', '2022-05-25', '2022-05-26', '2022-05-27',\n",
       "               '2022-05-28', '2022-05-29', '2022-05-30'],\n",
       "              dtype='datetime64[ns]', freq='D')"
      ]
     },
     "execution_count": 15,
     "metadata": {},
     "output_type": "execute_result"
    }
   ],
   "source": [
    "pd.date_range('2022-4-2', '2022-5-30')"
   ]
  },
  {
   "cell_type": "code",
   "execution_count": 17,
   "id": "43dcca4f",
   "metadata": {},
   "outputs": [
    {
     "data": {
      "text/plain": [
       "DatetimeIndex(['2022-10-01', '2022-10-02', '2022-10-03', '2022-10-04',\n",
       "               '2022-10-05', '2022-10-06', '2022-10-07', '2022-10-08',\n",
       "               '2022-10-09', '2022-10-10', '2022-10-11', '2022-10-12',\n",
       "               '2022-10-13', '2022-10-14', '2022-10-15', '2022-10-16',\n",
       "               '2022-10-17', '2022-10-18', '2022-10-19', '2022-10-20',\n",
       "               '2022-10-21', '2022-10-22', '2022-10-23', '2022-10-24',\n",
       "               '2022-10-25', '2022-10-26', '2022-10-27', '2022-10-28',\n",
       "               '2022-10-29', '2022-10-30'],\n",
       "              dtype='datetime64[ns]', freq='D')"
      ]
     },
     "execution_count": 17,
     "metadata": {},
     "output_type": "execute_result"
    }
   ],
   "source": [
    "pd.date_range(start='2022-10-1', periods=30)"
   ]
  },
  {
   "cell_type": "markdown",
   "id": "f16739a7",
   "metadata": {},
   "source": [
    "#### frep 매개변수로 특정한 날짜만 생성되도록 설정할 수 있다\n",
    "- s : second, 초\n",
    "- T : minute, 분\n",
    "- H : hour, 시간\n",
    "- D : day, 일\n",
    "- B : 주말이 아닌 평일\n",
    "- W : 주(일요일)\n",
    "- W-MON : 주(월요일)\n",
    "- M : 각 달의 마지막 날\n",
    "- MS : 각 달의 첫날(month start)"
   ]
  },
  {
   "cell_type": "code",
   "execution_count": 18,
   "id": "937b0998",
   "metadata": {},
   "outputs": [],
   "source": [
    "# https://pandas.pydata.org/pandas-docs/stable/user_guide/timeseries.html#dateoffset-objects"
   ]
  },
  {
   "cell_type": "code",
   "execution_count": 19,
   "id": "aa98a78f",
   "metadata": {},
   "outputs": [
    {
     "data": {
      "text/plain": [
       "DatetimeIndex(['2022-10-01', '2022-10-02', '2022-10-03', '2022-10-04',\n",
       "               '2022-10-05', '2022-10-06', '2022-10-07', '2022-10-08',\n",
       "               '2022-10-09', '2022-10-10', '2022-10-11', '2022-10-12',\n",
       "               '2022-10-13', '2022-10-14', '2022-10-15', '2022-10-16',\n",
       "               '2022-10-17', '2022-10-18', '2022-10-19', '2022-10-20',\n",
       "               '2022-10-21', '2022-10-22', '2022-10-23', '2022-10-24',\n",
       "               '2022-10-25', '2022-10-26', '2022-10-27', '2022-10-28',\n",
       "               '2022-10-29', '2022-10-30', '2022-10-31'],\n",
       "              dtype='datetime64[ns]', freq='D')"
      ]
     },
     "execution_count": 19,
     "metadata": {},
     "output_type": "execute_result"
    }
   ],
   "source": [
    "pd.date_range('2022-10-1','2022-10-31', freq='D')"
   ]
  },
  {
   "cell_type": "code",
   "execution_count": 20,
   "id": "ba88fb2e",
   "metadata": {},
   "outputs": [
    {
     "data": {
      "text/plain": [
       "DatetimeIndex(['2022-10-02', '2022-10-09', '2022-10-16', '2022-10-23',\n",
       "               '2022-10-30'],\n",
       "              dtype='datetime64[ns]', freq='W-SUN')"
      ]
     },
     "execution_count": 20,
     "metadata": {},
     "output_type": "execute_result"
    }
   ],
   "source": [
    "pd.date_range('2022-10-1','2022-10-31', freq='W')"
   ]
  },
  {
   "cell_type": "code",
   "execution_count": 21,
   "id": "665ddf13",
   "metadata": {},
   "outputs": [
    {
     "data": {
      "text/plain": [
       "DatetimeIndex(['2022-10-03', '2022-10-10', '2022-10-17', '2022-10-24',\n",
       "               '2022-10-31'],\n",
       "              dtype='datetime64[ns]', freq='W-MON')"
      ]
     },
     "execution_count": 21,
     "metadata": {},
     "output_type": "execute_result"
    }
   ],
   "source": [
    "pd.date_range('2022-10-1','2022-10-31', freq='W-MON')"
   ]
  },
  {
   "cell_type": "markdown",
   "id": "65c2e062",
   "metadata": {},
   "source": [
    "### shift"
   ]
  },
  {
   "cell_type": "code",
   "execution_count": 22,
   "id": "c3754154",
   "metadata": {},
   "outputs": [
    {
     "data": {
      "text/plain": [
       "2018-01-31    0.553933\n",
       "2018-02-28   -0.649489\n",
       "2018-03-31   -0.494953\n",
       "2018-04-30   -0.058159\n",
       "Freq: M, dtype: float64"
      ]
     },
     "execution_count": 22,
     "metadata": {},
     "output_type": "execute_result"
    }
   ],
   "source": [
    "ts = pd.Series(np.random.randn(4), index = pd.date_range('2018-1-1', periods=4, freq='M'))\n",
    "ts"
   ]
  },
  {
   "cell_type": "code",
   "execution_count": 23,
   "id": "fc64ce08",
   "metadata": {},
   "outputs": [
    {
     "data": {
      "text/plain": [
       "2018-01-31         NaN\n",
       "2018-02-28    0.553933\n",
       "2018-03-31   -0.649489\n",
       "2018-04-30   -0.494953\n",
       "Freq: M, dtype: float64"
      ]
     },
     "execution_count": 23,
     "metadata": {},
     "output_type": "execute_result"
    }
   ],
   "source": [
    "ts.shift(1)\n",
    "# 날짜는 그대로 있고 데이터만 한칸씩 뒤로.. 빈곳은 결측값"
   ]
  },
  {
   "cell_type": "code",
   "execution_count": 24,
   "id": "a109d3a6",
   "metadata": {},
   "outputs": [
    {
     "data": {
      "text/plain": [
       "2018-01-31   -0.649489\n",
       "2018-02-28   -0.494953\n",
       "2018-03-31   -0.058159\n",
       "2018-04-30         NaN\n",
       "Freq: M, dtype: float64"
      ]
     },
     "execution_count": 24,
     "metadata": {},
     "output_type": "execute_result"
    }
   ],
   "source": [
    "ts.shift(-1)\n",
    "# 반대로 보낼때는 -1"
   ]
  },
  {
   "cell_type": "code",
   "execution_count": 25,
   "id": "84d6ad7e",
   "metadata": {},
   "outputs": [
    {
     "data": {
      "text/plain": [
       "2018-02-04    0.553933\n",
       "2018-03-04   -0.649489\n",
       "2018-04-01   -0.494953\n",
       "2018-05-06   -0.058159\n",
       "dtype: float64"
      ]
     },
     "execution_count": 25,
     "metadata": {},
     "output_type": "execute_result"
    }
   ],
   "source": [
    "ts.shift(1, freq='W')"
   ]
  },
  {
   "cell_type": "markdown",
   "id": "aca21ec7",
   "metadata": {},
   "source": [
    "### resample : 날짜나 시간 간격을 재조정하는 기능\n",
    "- up-sample(업샘플링)\n",
    "- down-sample(다운샘플링)"
   ]
  },
  {
   "cell_type": "code",
   "execution_count": 29,
   "id": "378ce0b5",
   "metadata": {},
   "outputs": [
    {
     "data": {
      "text/plain": [
       "2018-01-01    0.027593\n",
       "2018-01-02   -0.272275\n",
       "2018-01-03   -0.160046\n",
       "2018-01-04    0.440561\n",
       "2018-01-05   -0.860828\n",
       "2018-01-06    2.676456\n",
       "2018-01-07    1.364574\n",
       "2018-01-08    0.297030\n",
       "2018-01-09   -0.269121\n",
       "2018-01-10    0.838398\n",
       "2018-01-11    0.577550\n",
       "2018-01-12   -0.350283\n",
       "2018-01-13    1.608533\n",
       "2018-01-14   -1.664654\n",
       "2018-01-15    1.137967\n",
       "2018-01-16    1.220592\n",
       "2018-01-17    0.344724\n",
       "2018-01-18   -1.294365\n",
       "2018-01-19   -0.925972\n",
       "2018-01-20    1.304535\n",
       "Freq: D, dtype: float64"
      ]
     },
     "execution_count": 29,
     "metadata": {},
     "output_type": "execute_result"
    }
   ],
   "source": [
    "ts = pd.Series(np.random.randn(100), index = pd.date_range('2018-1-1', periods=100, freq='D'))\n",
    "ts.head(20)"
   ]
  },
  {
   "cell_type": "code",
   "execution_count": 30,
   "id": "943f121a",
   "metadata": {},
   "outputs": [
    {
     "data": {
      "text/plain": [
       "2018-01-07    0.459434\n",
       "2018-01-14    0.148208\n",
       "2018-01-21    0.362599\n",
       "2018-01-28   -0.020849\n",
       "2018-02-04    0.294876\n",
       "2018-02-11    0.192757\n",
       "2018-02-18   -0.277876\n",
       "2018-02-25    0.031120\n",
       "2018-03-04   -0.257193\n",
       "2018-03-11   -1.138291\n",
       "2018-03-18   -0.219349\n",
       "2018-03-25    0.095743\n",
       "2018-04-01    0.048393\n",
       "2018-04-08    0.053833\n",
       "2018-04-15   -0.462978\n",
       "Freq: W-SUN, dtype: float64"
      ]
     },
     "execution_count": 30,
     "metadata": {},
     "output_type": "execute_result"
    }
   ],
   "source": [
    "# 다운 샘플링의 경우에는 원래의 데이터가 그룹화\n",
    "ts.resample('W').mean()"
   ]
  },
  {
   "cell_type": "code",
   "execution_count": 32,
   "id": "241a505e",
   "metadata": {},
   "outputs": [
    {
     "data": {
      "text/plain": [
       "2018-01-31    0.027593\n",
       "2018-02-28    0.190119\n",
       "2018-03-31    0.115674\n",
       "2018-04-30   -1.397207\n",
       "Freq: M, dtype: float64"
      ]
     },
     "execution_count": 32,
     "metadata": {},
     "output_type": "execute_result"
    }
   ],
   "source": [
    "ts.resample('M').first()\n",
    "# 그 달의 첫번째 값"
   ]
  },
  {
   "cell_type": "code",
   "execution_count": null,
   "id": "a9f211f1",
   "metadata": {},
   "outputs": [],
   "source": []
  }
 ],
 "metadata": {
  "kernelspec": {
   "display_name": "Python 3 (ipykernel)",
   "language": "python",
   "name": "python3"
  },
  "language_info": {
   "codemirror_mode": {
    "name": "ipython",
    "version": 3
   },
   "file_extension": ".py",
   "mimetype": "text/x-python",
   "name": "python",
   "nbconvert_exporter": "python",
   "pygments_lexer": "ipython3",
   "version": "3.9.7"
  },
  "toc": {
   "base_numbering": 1,
   "nav_menu": {},
   "number_sections": true,
   "sideBar": true,
   "skip_h1_title": false,
   "title_cell": "Table of Contents",
   "title_sidebar": "Contents",
   "toc_cell": false,
   "toc_position": {},
   "toc_section_display": true,
   "toc_window_display": false
  }
 },
 "nbformat": 4,
 "nbformat_minor": 5
}
