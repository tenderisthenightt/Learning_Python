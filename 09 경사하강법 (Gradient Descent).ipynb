{
 "cells": [
  {
   "cell_type": "markdown",
   "id": "930d2d81",
   "metadata": {},
   "source": [
    "## 경사하강법이란?\n",
    "\n",
    "- 손실을 줄이는 알고리즘\n",
    "- 기울기가 최소가 되는 점을 찾아서 알맞은 가중치를 찾아내는 것\n",
    "- 손실함수를 최적화하는 방법 중 하나다"
   ]
  },
  {
   "cell_type": "markdown",
   "id": "0febfe93",
   "metadata": {},
   "source": [
    "### 점진적인 학습 또는 온라인 학습"
   ]
  },
  {
   "cell_type": "markdown",
   "id": "35649cb2",
   "metadata": {},
   "source": [
    "## 확률적 경사 하강법(SGD)"
   ]
  },
  {
   "cell_type": "markdown",
   "id": "f4ded539",
   "metadata": {},
   "source": [
    "## 확률적 경사 하강법을 활용한 분류 모델"
   ]
  },
  {
   "cell_type": "markdown",
   "id": "b7503aeb",
   "metadata": {},
   "source": [
    "### 필수 라이브러리 로딩"
   ]
  },
  {
   "cell_type": "code",
   "execution_count": 7,
   "id": "18b2aec9",
   "metadata": {},
   "outputs": [],
   "source": [
    "import numpy as np\n",
    "import pandas as pd\n",
    "\n",
    "import matplotlib as mpl\n",
    "import matplotlib.pyplot as plt\n",
    "import seaborn as sns\n",
    "\n",
    "import warnings"
   ]
  },
  {
   "cell_type": "code",
   "execution_count": 6,
   "id": "847736e3",
   "metadata": {},
   "outputs": [],
   "source": [
    "%matplotlib inline\n",
    "# 시각화를 주피터노트북내에 바로 반영하기 위해\n",
    "%config Inlinebackend.figure_format = 'retina'\n",
    "# 시각화를 선명하게\n",
    "\n",
    "# 한글 폰트 설정\n",
    "mpl.rc('font', family='malgun gothic')\n",
    "# 유니코드에서 음수 부호 설정\n",
    "mpl.rc('axes', unicode_minus = False)\n",
    "# 경고문구 무시\n",
    "warnings.filterwarnings('ignore')"
   ]
  },
  {
   "cell_type": "markdown",
   "id": "34d620a4",
   "metadata": {},
   "source": [
    "### 훈련 데이터 로딩"
   ]
  },
  {
   "cell_type": "code",
   "execution_count": 8,
   "id": "e13385a7",
   "metadata": {},
   "outputs": [
    {
     "data": {
      "text/html": [
       "<div>\n",
       "<style scoped>\n",
       "    .dataframe tbody tr th:only-of-type {\n",
       "        vertical-align: middle;\n",
       "    }\n",
       "\n",
       "    .dataframe tbody tr th {\n",
       "        vertical-align: top;\n",
       "    }\n",
       "\n",
       "    .dataframe thead th {\n",
       "        text-align: right;\n",
       "    }\n",
       "</style>\n",
       "<table border=\"1\" class=\"dataframe\">\n",
       "  <thead>\n",
       "    <tr style=\"text-align: right;\">\n",
       "      <th></th>\n",
       "      <th>Species</th>\n",
       "      <th>Weight</th>\n",
       "      <th>Length</th>\n",
       "      <th>Diagonal</th>\n",
       "      <th>Height</th>\n",
       "      <th>Width</th>\n",
       "    </tr>\n",
       "  </thead>\n",
       "  <tbody>\n",
       "    <tr>\n",
       "      <th>0</th>\n",
       "      <td>Bream</td>\n",
       "      <td>242.0</td>\n",
       "      <td>25.4</td>\n",
       "      <td>30.0</td>\n",
       "      <td>11.5200</td>\n",
       "      <td>4.0200</td>\n",
       "    </tr>\n",
       "    <tr>\n",
       "      <th>1</th>\n",
       "      <td>Bream</td>\n",
       "      <td>290.0</td>\n",
       "      <td>26.3</td>\n",
       "      <td>31.2</td>\n",
       "      <td>12.4800</td>\n",
       "      <td>4.3056</td>\n",
       "    </tr>\n",
       "    <tr>\n",
       "      <th>2</th>\n",
       "      <td>Bream</td>\n",
       "      <td>340.0</td>\n",
       "      <td>26.5</td>\n",
       "      <td>31.1</td>\n",
       "      <td>12.3778</td>\n",
       "      <td>4.6961</td>\n",
       "    </tr>\n",
       "    <tr>\n",
       "      <th>3</th>\n",
       "      <td>Bream</td>\n",
       "      <td>363.0</td>\n",
       "      <td>29.0</td>\n",
       "      <td>33.5</td>\n",
       "      <td>12.7300</td>\n",
       "      <td>4.4555</td>\n",
       "    </tr>\n",
       "    <tr>\n",
       "      <th>4</th>\n",
       "      <td>Bream</td>\n",
       "      <td>430.0</td>\n",
       "      <td>29.0</td>\n",
       "      <td>34.0</td>\n",
       "      <td>12.4440</td>\n",
       "      <td>5.1340</td>\n",
       "    </tr>\n",
       "    <tr>\n",
       "      <th>...</th>\n",
       "      <td>...</td>\n",
       "      <td>...</td>\n",
       "      <td>...</td>\n",
       "      <td>...</td>\n",
       "      <td>...</td>\n",
       "      <td>...</td>\n",
       "    </tr>\n",
       "    <tr>\n",
       "      <th>154</th>\n",
       "      <td>Smelt</td>\n",
       "      <td>12.2</td>\n",
       "      <td>12.2</td>\n",
       "      <td>13.4</td>\n",
       "      <td>2.0904</td>\n",
       "      <td>1.3936</td>\n",
       "    </tr>\n",
       "    <tr>\n",
       "      <th>155</th>\n",
       "      <td>Smelt</td>\n",
       "      <td>13.4</td>\n",
       "      <td>12.4</td>\n",
       "      <td>13.5</td>\n",
       "      <td>2.4300</td>\n",
       "      <td>1.2690</td>\n",
       "    </tr>\n",
       "    <tr>\n",
       "      <th>156</th>\n",
       "      <td>Smelt</td>\n",
       "      <td>12.2</td>\n",
       "      <td>13.0</td>\n",
       "      <td>13.8</td>\n",
       "      <td>2.2770</td>\n",
       "      <td>1.2558</td>\n",
       "    </tr>\n",
       "    <tr>\n",
       "      <th>157</th>\n",
       "      <td>Smelt</td>\n",
       "      <td>19.7</td>\n",
       "      <td>14.3</td>\n",
       "      <td>15.2</td>\n",
       "      <td>2.8728</td>\n",
       "      <td>2.0672</td>\n",
       "    </tr>\n",
       "    <tr>\n",
       "      <th>158</th>\n",
       "      <td>Smelt</td>\n",
       "      <td>19.9</td>\n",
       "      <td>15.0</td>\n",
       "      <td>16.2</td>\n",
       "      <td>2.9322</td>\n",
       "      <td>1.8792</td>\n",
       "    </tr>\n",
       "  </tbody>\n",
       "</table>\n",
       "<p>159 rows × 6 columns</p>\n",
       "</div>"
      ],
      "text/plain": [
       "    Species  Weight  Length  Diagonal   Height   Width\n",
       "0     Bream   242.0    25.4      30.0  11.5200  4.0200\n",
       "1     Bream   290.0    26.3      31.2  12.4800  4.3056\n",
       "2     Bream   340.0    26.5      31.1  12.3778  4.6961\n",
       "3     Bream   363.0    29.0      33.5  12.7300  4.4555\n",
       "4     Bream   430.0    29.0      34.0  12.4440  5.1340\n",
       "..      ...     ...     ...       ...      ...     ...\n",
       "154   Smelt    12.2    12.2      13.4   2.0904  1.3936\n",
       "155   Smelt    13.4    12.4      13.5   2.4300  1.2690\n",
       "156   Smelt    12.2    13.0      13.8   2.2770  1.2558\n",
       "157   Smelt    19.7    14.3      15.2   2.8728  2.0672\n",
       "158   Smelt    19.9    15.0      16.2   2.9322  1.8792\n",
       "\n",
       "[159 rows x 6 columns]"
      ]
     },
     "execution_count": 8,
     "metadata": {},
     "output_type": "execute_result"
    }
   ],
   "source": [
    "fish = pd.read_csv('http://bit.ly/fish_csv_data')\n",
    "fish"
   ]
  },
  {
   "cell_type": "code",
   "execution_count": 11,
   "id": "4834c315",
   "metadata": {},
   "outputs": [
    {
     "data": {
      "text/plain": [
       "array(['Bream', 'Roach', 'Whitefish', 'Parkki', 'Perch', 'Pike', 'Smelt'],\n",
       "      dtype=object)"
      ]
     },
     "execution_count": 11,
     "metadata": {},
     "output_type": "execute_result"
    }
   ],
   "source": [
    "# target 고유값 추출\n",
    "fish['Species'].unique()\n",
    "\n",
    "# 두개는 넘음(이진분류X), 우리가 지금 하고 잇는건 다중분류엿다..!"
   ]
  },
  {
   "cell_type": "code",
   "execution_count": 9,
   "id": "6ed045d1",
   "metadata": {},
   "outputs": [],
   "source": [
    "# Species를 제외한 나머지 특성은 입력 데이터\n",
    "# Species는 타깃 데이터 (우리는 생선 품종을 고를거기 때문에)\n",
    "\n",
    "fish_input = fish[['Weight', 'Length','Diagonal','Height','Width']].to_numpy()\n",
    "# 하나이상의 컬럼을 가져올때는 []안에 []리스트업\n",
    "# 머신에 돌리려면 넘파이 배열로 바꿔야 됨\n",
    "fish_target = fish['Species'].to_numpy()"
   ]
  },
  {
   "cell_type": "markdown",
   "id": "59b82061",
   "metadata": {},
   "source": [
    "### 특성 전처리와 훈련세트, 테스트세트 분리"
   ]
  },
  {
   "cell_type": "markdown",
   "id": "030d5ac8",
   "metadata": {},
   "source": [
    "- 정규화와 표준화를 시키는 이유가 뭘까\n",
    "  - 특성들간의 단위가 맞지않으면 맞춰줘야 다양한 알고리즘에 다 적용할 수 있다\n",
    "  - 그리고 단위간에 너무 차이가 나면 과대적합이 발생할 수 있다\n",
    "  - 특성 스케일링\n",
    "  - 스케일링은 모델을 학습시키기 전까지만 하면 됨\n",
    "  - 정규화는 값이 범위가 0~1사이로 바뀌는것\n",
    "  - 표준화는 정규분포를 표준분포로 만드는것  "
   ]
  },
  {
   "cell_type": "code",
   "execution_count": 14,
   "id": "ed45a4fe",
   "metadata": {},
   "outputs": [],
   "source": [
    "from sklearn.model_selection import train_test_split\n",
    "from sklearn.preprocessing import StandardScaler\n",
    "\n",
    "train_input, test_input, train_target, test_target = train_test_split(\n",
    "    fish_input, fish_target, random_state=42)\n",
    "\n",
    "# 표준화\n",
    "ss = StandardScaler()\n",
    "ss.fit(train_input)\n",
    "# 스탠다드스케일은 트레인만 학습시키고\n",
    "# 테스트는 학습X (정답이 없음) = 이건 비지도학습\n",
    "\n",
    "train_scaled = ss.transform(train_input)\n",
    "test_scaled = ss.transform(test_input)"
   ]
  },
  {
   "cell_type": "markdown",
   "id": "df7d2d76",
   "metadata": {},
   "source": [
    "### 확률적 경사 하강법으로 모델 훈련"
   ]
  },
  {
   "cell_type": "code",
   "execution_count": 15,
   "id": "86999f0a",
   "metadata": {},
   "outputs": [
    {
     "name": "stdout",
     "output_type": "stream",
     "text": [
      "0.773109243697479\n",
      "0.775\n"
     ]
    }
   ],
   "source": [
    "# SGDClassifier 클래스 : 확률적 경사 하강법을 제공하는 분류용 클래스\n",
    "from sklearn.linear_model import SGDClassifier\n",
    "\n",
    "# loss function(손실함수), 손실 함수의 종류를 지정하는 매개변수(loss)\n",
    "# 이진분류회귀 : 이진크로스엔트로피\n",
    "# 다중분류회귀 : 크로스엔트로피, 소프트맥스\n",
    "# max_iter : 수행할 에포크 횟수\n",
    "# 에포크 : 전체 훈련 데이터 샘플을 사용하는 것\n",
    "sc = SGDClassifier(loss='log', max_iter=10, random_state=42)\n",
    "# log = 로지스틱 회귀를 쓰겟다\n",
    "sc.fit(train_scaled, train_target)\n",
    "# 얘는 스케일한거를 써야됨\n",
    "\n",
    "# 평가\n",
    "print(sc.score(train_scaled, train_target))\n",
    "print(sc.score(test_scaled, test_target))\n",
    "# 학습데이터에 대한 정확도와 테스트 데이터에 대한 정확도를 구할것\n",
    "\n",
    "# 결과를 보니 적당한 위치에 조금 부족(?)해서 에포크 수를 늘려야 할것같음"
   ]
  },
  {
   "cell_type": "code",
   "execution_count": 18,
   "id": "87e5dc42",
   "metadata": {},
   "outputs": [
    {
     "name": "stdout",
     "output_type": "stream",
     "text": [
      "0.8067226890756303\n",
      "0.8\n"
     ]
    }
   ],
   "source": [
    "# 모델을 이어서 훈련할때 partial_fit()\n",
    "# 모델을 새로 생성하지 않음\n",
    "sc.partial_fit(train_scaled, train_target)\n",
    "\n",
    "print(sc.score(train_scaled, train_target))\n",
    "print(sc.score(test_scaled, test_target))\n",
    "# 에포크를 10번 더 돌리니까 점수가 조금 올랏음\n",
    "# 하지만 너무 많이 돌려도 과대적합을 발생시킬 수 있음\n",
    "# 가장 적절한 에포크 횟수를 찾아야한다"
   ]
  },
  {
   "cell_type": "markdown",
   "id": "8402ae1b",
   "metadata": {},
   "source": [
    "### 가장 적절한 에포크 횟수 찾기\n",
    "\n",
    "- 에포크 횟수가 적어 모델이 훈련세트를 덜 학습하면 과소적합이 발생한다\n",
    "- 너무 많은 에포크 횟수는 과대적합된 모델일 가능성이 높다"
   ]
  },
  {
   "cell_type": "code",
   "execution_count": 19,
   "id": "53213902",
   "metadata": {},
   "outputs": [],
   "source": [
    "# partial_fit()을 사용해서 적절한 에포크 횟수 찾기\n",
    "\n",
    "sc = SGDClassifier(loss='log', random_state=42)\n",
    "# 비어있는 리스트 만듦\n",
    "\n",
    "# 여기에 차곡차곡 쌓을거임\n",
    "train_score = []\n",
    "test_score = []\n",
    "\n",
    "# partial_fit()만 사용하려면 훈련 세트의 전체 클래스의 레이블을 전달해줘야 한다\n",
    "classes = np.unique(train_target)\n",
    "# 라벨이 있는 학습(정답이 있는 학습) 없는학습(없는학습)\n",
    "# 얘만 갖고 학습을 시킬때는 classes를 매개변수로 전달해줘야 한다(밑에)\n",
    "\n",
    "# 300번의 에포크 동안 훈련을 \"반복\"하여 진행\n",
    "for _ in range(0, 300):\n",
    "    sc.partial_fit(train_scaled, train_target, classes = classes)\n",
    "    train_score.append(sc.score(train_scaled, train_target))\n",
    "    test_score.append(sc.score(test_scaled, test_target))"
   ]
  },
  {
   "cell_type": "markdown",
   "id": "4b5d51a6",
   "metadata": {},
   "source": [
    "### 에포크 횟수에 따른 점수 시각화 작업"
   ]
  },
  {
   "cell_type": "code",
   "execution_count": 20,
   "id": "2a6e01e1",
   "metadata": {},
   "outputs": [],
   "source": [
    "# 차트 스타일 지정\n",
    "sns.set(font='malgun gothic', rc={'axes.unicode_minus':False}, style='darkgrid')\n",
    "plt.rc('figure', figsize=(10, 8))"
   ]
  },
  {
   "cell_type": "code",
   "execution_count": 21,
   "id": "79c91a74",
   "metadata": {},
   "outputs": [
    {
     "data": {
      "image/png": "[encoded data removed]",
      "text/plain": [
       "<Figure size 720x576 with 1 Axes>"
      ]
     },
     "metadata": {},
     "output_type": "display_data"
    }
   ],
   "source": [
    "plt.plot(train_score)\n",
    "plt.plot(test_score)\n",
    "plt.xlabel('epoch')\n",
    "plt.ylabel('accuracy')\n",
    "plt.show()\n",
    "\n",
    "# 데이터가 적어서 뚜렷하게 보이진 않지만 이렇게 시각화해서 보면 더 직관적이고 좋다\n",
    "# 두 테스트 점수가 벌어지면 안좋은거..(과대적합 의심)\n",
    "# 처음부분은 둘 다 점수가 낮음(과소적합)\n",
    "# 훈련세트와 테스트 세트가 가장 가까이 있는 상태 (100주변부분)"
   ]
  },
  {
   "cell_type": "code",
   "execution_count": 23,
   "id": "2dd348dd",
   "metadata": {},
   "outputs": [
    {
     "name": "stdout",
     "output_type": "stream",
     "text": [
      "0.957983193277311\n",
      "0.925\n"
     ]
    }
   ],
   "source": [
    "# 에포크를 max_iter=100로 늘려서 다시 시도\n",
    "\n",
    "#  조기종료 가능 : 일정 에포크 동안 성능이 향상되지 않으면 더 훈련하지 않고 자동으로 멈추는 기능\n",
    "# tol : 향상될 최솟값을 지정하는 매개변수로 \n",
    "# None으로 값을 주면 자동으로 멈추지 않고, max_iter 만큼 무조건 반복된다\n",
    "sc = SGDClassifier(loss='log', max_iter=100, tol = None, random_state=42)\n",
    "# 서포트 벡터 머신(SVM) 알고리즘에서 사용되는 손실함수의 기본값은 hinge\n",
    "sc.fit(train_scaled, train_target)\n",
    "\n",
    "\n",
    "\n",
    "# 평가\n",
    "print(sc.score(train_scaled, train_target))\n",
    "print(sc.score(test_scaled, test_target))"
   ]
  },
  {
   "cell_type": "code",
   "execution_count": null,
   "id": "25c098f3",
   "metadata": {},
   "outputs": [],
   "source": []
  },
  {
   "cell_type": "code",
   "execution_count": null,
   "id": "41308fc4",
   "metadata": {},
   "outputs": [],
   "source": []
  },
  {
   "cell_type": "code",
   "execution_count": null,
   "id": "420184c7",
   "metadata": {},
   "outputs": [],
   "source": []
  },
  {
   "cell_type": "code",
   "execution_count": null,
   "id": "71323f52",
   "metadata": {},
   "outputs": [],
   "source": []
  }
 ],
 "metadata": {
  "kernelspec": {
   "display_name": "Python 3 (ipykernel)",
   "language": "python",
   "name": "python3"
  },
  "language_info": {
   "codemirror_mode": {
    "name": "ipython",
    "version": 3
   },
   "file_extension": ".py",
   "mimetype": "text/x-python",
   "name": "python",
   "nbconvert_exporter": "python",
   "pygments_lexer": "ipython3",
   "version": "3.9.7"
  },
  "toc": {
   "base_numbering": 1,
   "nav_menu": {},
   "number_sections": true,
   "sideBar": true,
   "skip_h1_title": false,
   "title_cell": "Table of Contents",
   "title_sidebar": "Contents",
   "toc_cell": false,
   "toc_position": {},
   "toc_section_display": true,
   "toc_window_display": false
  }
 },
 "nbformat": 4,
 "nbformat_minor": 5
}
