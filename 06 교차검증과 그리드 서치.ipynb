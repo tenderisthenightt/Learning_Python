{
 "cells": [
  {
   "cell_type": "code",
   "execution_count": 1,
   "id": "92860275",
   "metadata": {},
   "outputs": [],
   "source": [
    "import numpy as np\n",
    "import pandas as pd\n",
    "import matplotlib.pyplot as plt"
   ]
  },
  {
   "cell_type": "code",
   "execution_count": 2,
   "id": "89cdfb4b",
   "metadata": {},
   "outputs": [],
   "source": [
    "wine = pd.read_csv('https://raw.githubusercontent.com/rickiepark/hg-mldl/master/wine.csv')"
   ]
  },
  {
   "cell_type": "code",
   "execution_count": 22,
   "id": "bbf74f1f",
   "metadata": {},
   "outputs": [],
   "source": [
    "wine_input = wine[['alcohol','sugar','pH']].to_numpy()\n",
    "# 여러개니까 []안에 []리스트업\n",
    "wine_target = wine['class'].to_numpy()"
   ]
  },
  {
   "cell_type": "markdown",
   "id": "c323ca40",
   "metadata": {},
   "source": [
    "### 훈련세트와 테스트세트 분리"
   ]
  },
  {
   "cell_type": "code",
   "execution_count": 4,
   "id": "dfa77b5c",
   "metadata": {},
   "outputs": [],
   "source": [
    "from sklearn.model_selection import train_test_split\n",
    "\n",
    "train_input, test_input, train_target, test_target = train_test_split(\n",
    "    wine_input, wine_target, test_size = 0.2, random_state=42)"
   ]
  },
  {
   "cell_type": "markdown",
   "id": "ba70dc2c",
   "metadata": {},
   "source": [
    "### 훈련세트에서 검증세트를 분리"
   ]
  },
  {
   "cell_type": "code",
   "execution_count": 5,
   "id": "126dcb03",
   "metadata": {},
   "outputs": [],
   "source": [
    "sub_input, val_input, sub_target, val_target = train_test_split(\n",
    "    train_input, train_target, test_size = 0.2, random_state=42)\n",
    "# 최종적으로 6 : 2 : 2 로 분리한 것"
   ]
  },
  {
   "cell_type": "code",
   "execution_count": 6,
   "id": "8cce20b5",
   "metadata": {},
   "outputs": [
    {
     "data": {
      "text/plain": [
       "((4157, 3), (1040, 3))"
      ]
     },
     "execution_count": 6,
     "metadata": {},
     "output_type": "execute_result"
    }
   ],
   "source": [
    "sub_input.shape, val_input.shape\n",
    "# 데이터 크기 확인"
   ]
  },
  {
   "cell_type": "markdown",
   "id": "250245ad",
   "metadata": {},
   "source": [
    "### 모델 구축(DecisionTreeClassifier)"
   ]
  },
  {
   "cell_type": "code",
   "execution_count": 7,
   "id": "1286c9b0",
   "metadata": {},
   "outputs": [
    {
     "name": "stdout",
     "output_type": "stream",
     "text": [
      "0.9971133028626413\n",
      "0.864423076923077\n"
     ]
    }
   ],
   "source": [
    "from sklearn.tree import DecisionTreeClassifier\n",
    "#                                       분류\n",
    "dt = DecisionTreeClassifier(random_state=42)\n",
    "# 아무 옵션도 안줘서 최대 트리로 형성될꺼임\n",
    "dt.fit(sub_input, sub_target)\n",
    "# 검증세트를 학습시킬거임\n",
    "\n",
    "print(dt.score(sub_input, sub_target))\n",
    "print(dt.score(val_input, val_target))\n",
    "# sub >> val\n",
    "# 과대적합 되어있다"
   ]
  },
  {
   "cell_type": "markdown",
   "id": "5482e76e",
   "metadata": {},
   "source": [
    "### 교차 검증(k-fold cross validation)"
   ]
  },
  {
   "cell_type": "code",
   "execution_count": 8,
   "id": "438d00e9",
   "metadata": {},
   "outputs": [
    {
     "data": {
      "text/plain": [
       "{'fit_time': array([0.00897527, 0.00724292, 0.00645304, 0.00584793, 0.00590754]),\n",
       " 'score_time': array([0.        , 0.00073814, 0.00113368, 0.00019026, 0.        ]),\n",
       " 'test_score': array([0.86923077, 0.84615385, 0.87680462, 0.84889317, 0.83541867])}"
      ]
     },
     "execution_count": 8,
     "metadata": {},
     "output_type": "execute_result"
    }
   ],
   "source": [
    "from sklearn.model_selection import cross_validate\n",
    "# 보통 5나 10을 많이 써서 5겹 교차검증/10겹 교차검증이라고 많이 씀\n",
    "\n",
    "# 평가할 모델 객체를 매개변수로 전달한다.(검정세트를 떼어내지 않고 훈련세트 전체를 전달해야 한다)\n",
    "scores = cross_validate(dt, train_input, train_target)\n",
    "# 매개변수 3개 들어감 주의\n",
    "# 어떤 옵션(k값)을 안줬는데 디폴트는 5임\n",
    "# 반복해서 검증하면서 평균값이 나오면 그걸로 평가점수를 반환해줌\n",
    "# scores에 받기\n",
    "scores\n",
    "# 세개의 키값과 함께 딕셔너리를 반환해줌\n",
    "# fit_time  훈련시간\n",
    "# score_time 검증시간\n",
    "# test_score 평균값\n",
    "# 다섯겹으로 쪼갰기때문에 다섯개의 값이 나옴"
   ]
  },
  {
   "cell_type": "code",
   "execution_count": 9,
   "id": "c3c374e5",
   "metadata": {},
   "outputs": [
    {
     "data": {
      "text/plain": [
       "0.855300214703487"
      ]
     },
     "execution_count": 9,
     "metadata": {},
     "output_type": "execute_result"
    }
   ],
   "source": [
    "np.mean(scores['test_score'])\n",
    "# 평균내면 최종_찐최종_점수"
   ]
  },
  {
   "cell_type": "code",
   "execution_count": 10,
   "id": "d8815a80",
   "metadata": {},
   "outputs": [
    {
     "data": {
      "text/plain": [
       "0.855300214703487"
      ]
     },
     "execution_count": 10,
     "metadata": {},
     "output_type": "execute_result"
    }
   ],
   "source": [
    "from sklearn.model_selection import StratifiedKFold\n",
    "scores = cross_validate(dt, train_input, train_target, cv=StratifiedKFold())\n",
    "# cv=StratifiedKFold() 얘를 넣어주면 알아서 섞어줌(shuffle기능)\n",
    "np.mean(scores['test_score'])"
   ]
  },
  {
   "cell_type": "code",
   "execution_count": 11,
   "id": "8211ba27",
   "metadata": {},
   "outputs": [
    {
     "data": {
      "text/plain": [
       "0.8574181117533719"
      ]
     },
     "execution_count": 11,
     "metadata": {},
     "output_type": "execute_result"
    }
   ],
   "source": [
    "# 만약 k-fold가 10이라면 (10겹 교차검증)\n",
    "Splitter = StratifiedKFold(n_splits=10, shuffle=True, random_state=42)\n",
    "# splitter를 쓸때는 이렇게 써줘야 함\n",
    "# 한번섞어서 나누는 용\n",
    "scores = cross_validate(dt, train_input, train_target, cv=Splitter)\n",
    "np.mean(scores['test_score'])"
   ]
  },
  {
   "cell_type": "markdown",
   "id": "7c688966",
   "metadata": {},
   "source": [
    " 특성공학을 이용해서 특성을 늘릴 필요성이 있다"
   ]
  },
  {
   "cell_type": "markdown",
   "id": "30a0d3bc",
   "metadata": {},
   "source": [
    "### 와인의 그리드서치"
   ]
  },
  {
   "cell_type": "code",
   "execution_count": 16,
   "id": "2ca6397c",
   "metadata": {},
   "outputs": [
    {
     "data": {
      "text/plain": [
       "Index(['alcohol', 'sugar', 'pH', 'class'], dtype='object')"
      ]
     },
     "execution_count": 16,
     "metadata": {},
     "output_type": "execute_result"
    }
   ],
   "source": [
    "wine.keys()"
   ]
  },
  {
   "cell_type": "code",
   "execution_count": 18,
   "id": "6f80d0de",
   "metadata": {},
   "outputs": [
    {
     "data": {
      "text/plain": [
       "pandas.core.series.Series"
      ]
     },
     "execution_count": 18,
     "metadata": {},
     "output_type": "execute_result"
    }
   ],
   "source": [
    "type(wine['class'])"
   ]
  },
  {
   "cell_type": "code",
   "execution_count": 29,
   "id": "561a0b98",
   "metadata": {},
   "outputs": [
    {
     "data": {
      "text/plain": [
       "pandas.core.frame.DataFrame"
      ]
     },
     "execution_count": 29,
     "metadata": {},
     "output_type": "execute_result"
    }
   ],
   "source": [
    "type(wine)"
   ]
  },
  {
   "cell_type": "code",
   "execution_count": 26,
   "id": "b1848d3b",
   "metadata": {},
   "outputs": [
    {
     "data": {
      "text/html": [
       "<div>\n",
       "<style scoped>\n",
       "    .dataframe tbody tr th:only-of-type {\n",
       "        vertical-align: middle;\n",
       "    }\n",
       "\n",
       "    .dataframe tbody tr th {\n",
       "        vertical-align: top;\n",
       "    }\n",
       "\n",
       "    .dataframe thead th {\n",
       "        text-align: right;\n",
       "    }\n",
       "</style>\n",
       "<table border=\"1\" class=\"dataframe\">\n",
       "  <thead>\n",
       "    <tr style=\"text-align: right;\">\n",
       "      <th></th>\n",
       "      <th>alcohol</th>\n",
       "      <th>sugar</th>\n",
       "      <th>pH</th>\n",
       "      <th>class</th>\n",
       "    </tr>\n",
       "  </thead>\n",
       "  <tbody>\n",
       "    <tr>\n",
       "      <th>6492</th>\n",
       "      <td>11.2</td>\n",
       "      <td>1.6</td>\n",
       "      <td>3.27</td>\n",
       "      <td>1.0</td>\n",
       "    </tr>\n",
       "    <tr>\n",
       "      <th>6493</th>\n",
       "      <td>9.6</td>\n",
       "      <td>8.0</td>\n",
       "      <td>3.15</td>\n",
       "      <td>1.0</td>\n",
       "    </tr>\n",
       "    <tr>\n",
       "      <th>6494</th>\n",
       "      <td>9.4</td>\n",
       "      <td>1.2</td>\n",
       "      <td>2.99</td>\n",
       "      <td>1.0</td>\n",
       "    </tr>\n",
       "    <tr>\n",
       "      <th>6495</th>\n",
       "      <td>12.8</td>\n",
       "      <td>1.1</td>\n",
       "      <td>3.34</td>\n",
       "      <td>1.0</td>\n",
       "    </tr>\n",
       "    <tr>\n",
       "      <th>6496</th>\n",
       "      <td>11.8</td>\n",
       "      <td>0.8</td>\n",
       "      <td>3.26</td>\n",
       "      <td>1.0</td>\n",
       "    </tr>\n",
       "  </tbody>\n",
       "</table>\n",
       "</div>"
      ],
      "text/plain": [
       "      alcohol  sugar    pH  class\n",
       "6492     11.2    1.6  3.27    1.0\n",
       "6493      9.6    8.0  3.15    1.0\n",
       "6494      9.4    1.2  2.99    1.0\n",
       "6495     12.8    1.1  3.34    1.0\n",
       "6496     11.8    0.8  3.26    1.0"
      ]
     },
     "execution_count": 26,
     "metadata": {},
     "output_type": "execute_result"
    }
   ],
   "source": [
    "wine.tail()"
   ]
  },
  {
   "cell_type": "code",
   "execution_count": 34,
   "id": "61592f53",
   "metadata": {},
   "outputs": [
    {
     "data": {
      "text/plain": [
       "GridSearchCV(cv=3, estimator=DecisionTreeClassifier(random_state=2022),\n",
       "             n_jobs=-1,\n",
       "             param_grid={'max_depth': [2, 3, 4, 5, None],\n",
       "                         'min_samples_leaf': [1, 2, 3, 4, 5, 6, 7, 8, 9],\n",
       "                         'min_samples_split': [2, 3, 4, 5, 6, 7, 8, 9, 10]})"
      ]
     },
     "execution_count": 34,
     "metadata": {},
     "output_type": "execute_result"
    }
   ],
   "source": [
    "import graphviz\n",
    "\n",
    "from sklearn.model_selection import GridSearchCV\n",
    "model = DecisionTreeClassifier(random_state = 2022)\n",
    "\n",
    "params = {\n",
    "    'max_depth':[2, 3, 4, 5, None],\n",
    "    'min_samples_leaf':[1, 2, 3, 4, 5, 6, 7, 8, 9],\n",
    "    'min_samples_split':[2, 3, 4, 5, 6, 7, 8, 9, 10]\n",
    "}\n",
    "# None : 깊이 제한을 안준것\n",
    "\n",
    "gs = GridSearchCV(model, param_grid = params, cv = 3, refit = True, n_jobs=-1)\n",
    "gs.fit(train_input, train_target)"
   ]
  },
  {
   "cell_type": "code",
   "execution_count": 32,
   "id": "57c054c4",
   "metadata": {},
   "outputs": [
    {
     "data": {
      "text/plain": [
       "DecisionTreeClassifier(min_samples_split=4, random_state=2022)"
      ]
     },
     "execution_count": 32,
     "metadata": {},
     "output_type": "execute_result"
    }
   ],
   "source": [
    "model = DecisionTreeClassifier(min_samples_split=4, random_state=2022)\n",
    "model.fit(train_input, train_target)"
   ]
  },
  {
   "cell_type": "code",
   "execution_count": 35,
   "id": "ee4763b1",
   "metadata": {},
   "outputs": [
    {
     "name": "stdout",
     "output_type": "stream",
     "text": [
      "0.9045603232634212\n",
      "0.8507692307692307\n"
     ]
    }
   ],
   "source": [
    "model = gs.best_estimator_\n",
    "# 우리가 가진 값중 최적의 값을 가지고 알아서 모델을 만들라는 뜻\n",
    "print(model.score(train_input, train_target))\n",
    "print(model.score(test_input, test_target))\n",
    "## 과대적합의심!(왜? train데이터셋의 값이 test데이터셋의 값보다 많아서)"
   ]
  },
  {
   "cell_type": "code",
   "execution_count": 36,
   "id": "420de8f1",
   "metadata": {},
   "outputs": [
    {
     "name": "stdout",
     "output_type": "stream",
     "text": [
      "{'max_depth': None, 'min_samples_leaf': 8, 'min_samples_split': 2}\n",
      "0.8649229488527506\n"
     ]
    }
   ],
   "source": [
    "## 그리드 설치를 통해 찾은 최적의 매개 변수\n",
    "print(gs.best_params_)\n",
    "# 최적의 파라미터를 통해 찾은 최적의 점수가 무엇인가?\n",
    "print(gs.best_score_) "
   ]
  },
  {
   "cell_type": "code",
   "execution_count": 37,
   "id": "b6bd0ce2",
   "metadata": {},
   "outputs": [
    {
     "data": {
      "text/plain": [
       "0.8649229488527506"
      ]
     },
     "execution_count": 37,
     "metadata": {},
     "output_type": "execute_result"
    }
   ],
   "source": [
    "#그리드 서치를 통해서 찾은 최상의 교차검증 점수\n",
    "np.max(gs.cv_results_['mean_test_score'])\n",
    "\n",
    "## grid-search = gs\n",
    "## cross-validaion = cv"
   ]
  },
  {
   "cell_type": "code",
   "execution_count": 38,
   "id": "aba2e700",
   "metadata": {},
   "outputs": [
    {
     "name": "stdout",
     "output_type": "stream",
     "text": [
      "0.8454877814123533\n",
      "0.8415384615384616\n"
     ]
    }
   ],
   "source": [
    "model = DecisionTreeClassifier(max_depth = 3, min_samples_split=2,random_state=121)\n",
    "model.fit(train_input, train_target)\n",
    "\n",
    "print(model.score(train_input, train_target)) \n",
    "\n",
    "print(model.score(test_input, test_target))\n",
    "\n",
    "# 값이 맞춰졌다는거는 나쁘지 않은것.."
   ]
  },
  {
   "cell_type": "code",
   "execution_count": null,
   "id": "8d58b49b",
   "metadata": {},
   "outputs": [],
   "source": [
    "## 과소적합일 때는 데이터가 적을 때 발생할 수 있는데,\n",
    "## 이 때 해결방법은 데이터를 늘리거나 특성공학을 쓸 수 있다\n",
    "##하지만, 이 데이터셋에서는 여기서 그칠 수밖에 없다."
   ]
  }
 ],
 "metadata": {
  "kernelspec": {
   "display_name": "Python 3 (ipykernel)",
   "language": "python",
   "name": "python3"
  },
  "language_info": {
   "codemirror_mode": {
    "name": "ipython",
    "version": 3
   },
   "file_extension": ".py",
   "mimetype": "text/x-python",
   "name": "python",
   "nbconvert_exporter": "python",
   "pygments_lexer": "ipython3",
   "version": "3.9.7"
  },
  "toc": {
   "base_numbering": 1,
   "nav_menu": {},
   "number_sections": true,
   "sideBar": true,
   "skip_h1_title": false,
   "title_cell": "Table of Contents",
   "title_sidebar": "Contents",
   "toc_cell": false,
   "toc_position": {},
   "toc_section_display": true,
   "toc_window_display": false
  }
 },
 "nbformat": 4,
 "nbformat_minor": 5
}
