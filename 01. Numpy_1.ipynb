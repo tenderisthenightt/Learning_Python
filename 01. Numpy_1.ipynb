{
 "cells": [
  {
   "cell_type": "markdown",
   "id": "d80dd90c",
   "metadata": {},
   "source": [
    "# 넘파이(Numpy) 배열 프로그래밍"
   ]
  },
  {
   "cell_type": "markdown",
   "id": "8bcf8dde",
   "metadata": {},
   "source": [
    "### 1. 넘파이 배열\n",
    "#### Array(배열): 동일한 자료형을 순서대로 저장하여 처리하는 자료구조\n",
    "#### 파이썬 자료형: List(가변길이 배열, 일반적인 배열은 길이의 변경이 불가능하다)[], Tuple(), Set{}, Dict{} - key:value 두개를 묶어서 item이라 부른다.\n",
    "#### 파이썬은 배열이 없어서 그와 같은 역할을 수행할게 필요해서 넘파이가 생김\n",
    "#### 넘파이 자료구조: 다차원 배열 자료구조 클래스 ndarray\n",
    "#### 넘파이는 반복문을 쓰지 않고도 반복처리가 가능함, c언어를 기반으로 만들어짐"
   ]
  },
  {
   "cell_type": "code",
   "execution_count": 1,
   "id": "499a0812",
   "metadata": {},
   "outputs": [
    {
     "name": "stdout",
     "output_type": "stream",
     "text": [
      "[1, 4, 9, 16, 25]\n"
     ]
    }
   ],
   "source": [
    "a = [1, 2, 3, 4, 5]\n",
    "b = [1, 2, 3, 4, 5]\n",
    "c = [] # 빈 리스트 객체\n",
    "# for 개별변수 in 집합변수\n",
    "for i in range(len(a)):  # range(5): 0, 1, 2, 3, 4\n",
    "    c.append(a[i]*b[i])\n",
    "print(c)"
   ]
  },
  {
   "cell_type": "code",
   "execution_count": 2,
   "id": "6f000a42",
   "metadata": {},
   "outputs": [
    {
     "ename": "TypeError",
     "evalue": "can't multiply sequence by non-int of type 'list'",
     "output_type": "error",
     "traceback": [
      "\u001b[1;31m---------------------------------------------------------------------------\u001b[0m",
      "\u001b[1;31mTypeError\u001b[0m                                 Traceback (most recent call last)",
      "\u001b[1;32m~\\AppData\\Local\\Temp/ipykernel_11404/3077297949.py\u001b[0m in \u001b[0;36m<module>\u001b[1;34m\u001b[0m\n\u001b[1;32m----> 1\u001b[1;33m \u001b[0mc\u001b[0m \u001b[1;33m=\u001b[0m \u001b[0ma\u001b[0m \u001b[1;33m*\u001b[0m \u001b[0mb\u001b[0m \u001b[1;31m# R의 벡터가 아니라서 실행 안됨. 넘파이가 필요한 이유\u001b[0m\u001b[1;33m\u001b[0m\u001b[1;33m\u001b[0m\u001b[0m\n\u001b[0m\u001b[0;32m      2\u001b[0m \u001b[0mc\u001b[0m\u001b[1;33m\u001b[0m\u001b[1;33m\u001b[0m\u001b[0m\n",
      "\u001b[1;31mTypeError\u001b[0m: can't multiply sequence by non-int of type 'list'"
     ]
    }
   ],
   "source": [
    "c = a * b # R의 벡터가 아니라서 실행 안됨. 넘파이가 필요한 이유\n",
    "c"
   ]
  },
  {
   "cell_type": "markdown",
   "id": "d204cd96",
   "metadata": {},
   "source": [
    "### 넘파이 패키지 임포트"
   ]
  },
  {
   "cell_type": "code",
   "execution_count": 3,
   "id": "61d51026",
   "metadata": {},
   "outputs": [],
   "source": [
    "import numpy as np"
   ]
  },
  {
   "cell_type": "code",
   "execution_count": 4,
   "id": "16ef7658",
   "metadata": {},
   "outputs": [
    {
     "data": {
      "text/plain": [
       "'1.20.3'"
      ]
     },
     "execution_count": 4,
     "metadata": {},
     "output_type": "execute_result"
    }
   ],
   "source": [
    "# Numpy 라이브러리 버전 확인\n",
    "np.__version__"
   ]
  },
  {
   "cell_type": "code",
   "execution_count": 5,
   "id": "9b65e376",
   "metadata": {},
   "outputs": [
    {
     "data": {
      "text/plain": [
       "array([ 1,  4,  9, 16, 25])"
      ]
     },
     "execution_count": 5,
     "metadata": {},
     "output_type": "execute_result"
    }
   ],
   "source": [
    "# a와 b의 길이거 같아야 됨\n",
    "x = np.array(a)\n",
    "y = np.array(b)\n",
    "x * y"
   ]
  },
  {
   "cell_type": "markdown",
   "id": "ce0b65f4",
   "metadata": {},
   "source": [
    "#### 수업에 사용할 함수 정의"
   ]
  },
  {
   "cell_type": "code",
   "execution_count": 6,
   "id": "167edd0d",
   "metadata": {},
   "outputs": [],
   "source": [
    "def pprint(arr):\n",
    "    print('type:{}'.format(type(arr))) # arr의 타입(자료형) 확인\n",
    "    print('shape:{}, dimension:{}, dtype:{}'.format(arr.shape, arr.ndim, arr.dtype))\n",
    "    # shape 차원의 모양, 몇차원인지, 객체의 타입\n",
    "    print(\"Array's Data: \\n\", arr)"
   ]
  },
  {
   "cell_type": "markdown",
   "id": "1a22275a",
   "metadata": {},
   "source": [
    "#### 파이썬 1차원 배열(list)로 Numpy 배열 생성하는 방법"
   ]
  },
  {
   "cell_type": "code",
   "execution_count": 7,
   "id": "60b1186b",
   "metadata": {},
   "outputs": [],
   "source": [
    "arr = [1, 2, 3]\n",
    "a = np.array(arr) # a = np.array([1, 2, 3])"
   ]
  },
  {
   "cell_type": "code",
   "execution_count": 10,
   "id": "01fcd32d",
   "metadata": {},
   "outputs": [],
   "source": [
    "import teacher"
   ]
  },
  {
   "cell_type": "code",
   "execution_count": 11,
   "id": "caad5354",
   "metadata": {},
   "outputs": [],
   "source": [
    "from teacher import *"
   ]
  },
  {
   "cell_type": "markdown",
   "id": "834b4324",
   "metadata": {},
   "source": [
    "### 파이썬 2차원 배열로 Numpy 배열 생성, 원소 데이터타입 지정"
   ]
  },
  {
   "cell_type": "code",
   "execution_count": 12,
   "id": "fe3c1db1",
   "metadata": {},
   "outputs": [],
   "source": [
    "arr = [[1, 2, 3], [4, 5, 6]] # 기본적으론 리스트로 # 행이 2개 열이 3개\n",
    "arr2 = [(1, 2, 3), (4, 5, 6)] # 둘다 2차원 배열\n",
    "b = np.array(arr, dtype = float)"
   ]
  },
  {
   "cell_type": "code",
   "execution_count": 13,
   "id": "da90b464",
   "metadata": {},
   "outputs": [
    {
     "name": "stdout",
     "output_type": "stream",
     "text": [
      "type : <class 'numpy.ndarray'>\n",
      "shape: (2, 3), dimension:2, dtype:float64\n",
      "Array's Data : /n [[1. 2. 3.]\n",
      " [4. 5. 6.]]\n"
     ]
    }
   ],
   "source": [
    "pprint(b)"
   ]
  },
  {
   "cell_type": "code",
   "execution_count": 14,
   "id": "5adb773d",
   "metadata": {},
   "outputs": [],
   "source": [
    "#### 파이썬 3차원 배열 생성, 원소 데이터 타입 지정"
   ]
  },
  {
   "cell_type": "code",
   "execution_count": 15,
   "id": "83f3fa91",
   "metadata": {},
   "outputs": [],
   "source": [
    "arr = np.array([[[1, 2, 3], [4,5,6]], [[3,2,1],[4,5,6]]], dtype= float)"
   ]
  },
  {
   "cell_type": "code",
   "execution_count": 16,
   "id": "f56b4aa3",
   "metadata": {},
   "outputs": [
    {
     "name": "stdout",
     "output_type": "stream",
     "text": [
      "type : <class 'numpy.ndarray'>\n",
      "shape: (2, 2, 3), dimension:3, dtype:float64\n",
      "Array's Data : /n [[[1. 2. 3.]\n",
      "  [4. 5. 6.]]\n",
      "\n",
      " [[3. 2. 1.]\n",
      "  [4. 5. 6.]]]\n"
     ]
    }
   ],
   "source": [
    "pprint(arr) # 면 행 열"
   ]
  },
  {
   "cell_type": "markdown",
   "id": "81b319f0",
   "metadata": {},
   "source": [
    "#### np.zeros(shape, dtype= float, order='C')\n",
    " - shape는 튜플 형태로 order='C': C언어 스타일로\n",
    " - 지정된 shape의 배열을 생성하고, 모든 요소를 0으로 초기화"
   ]
  },
  {
   "cell_type": "code",
   "execution_count": 17,
   "id": "87ccf485",
   "metadata": {},
   "outputs": [],
   "source": [
    "a = np.zeros((3, 4))"
   ]
  },
  {
   "cell_type": "code",
   "execution_count": 18,
   "id": "b5b43012",
   "metadata": {},
   "outputs": [
    {
     "name": "stdout",
     "output_type": "stream",
     "text": [
      "type : <class 'numpy.ndarray'>\n",
      "shape: (3, 4), dimension:2, dtype:float64\n",
      "Array's Data : /n [[0. 0. 0. 0.]\n",
      " [0. 0. 0. 0.]\n",
      " [0. 0. 0. 0.]]\n"
     ]
    }
   ],
   "source": [
    "pprint(a)"
   ]
  },
  {
   "cell_type": "markdown",
   "id": "7443492f",
   "metadata": {},
   "source": [
    "#### np.ones(shape, dtype= None, order='C')\n",
    " - 지정된 shape의 배열을 생성하고, 모든 요소를 1로 초기화"
   ]
  },
  {
   "cell_type": "code",
   "execution_count": 19,
   "id": "fbed5f42",
   "metadata": {},
   "outputs": [
    {
     "name": "stdout",
     "output_type": "stream",
     "text": [
      "type : <class 'numpy.ndarray'>\n",
      "shape: (2, 3, 4), dimension:3, dtype:int16\n",
      "Array's Data : /n [[[1 1 1 1]\n",
      "  [1 1 1 1]\n",
      "  [1 1 1 1]]\n",
      "\n",
      " [[1 1 1 1]\n",
      "  [1 1 1 1]\n",
      "  [1 1 1 1]]]\n"
     ]
    }
   ],
   "source": [
    "a = np.ones((2, 3, 4), dtype = np.int16)\n",
    "pprint(a)"
   ]
  },
  {
   "cell_type": "markdown",
   "id": "59700048",
   "metadata": {},
   "source": [
    "#### np.full(shap, fill_value, dtype=None, order='C')\n",
    " - 지정된 shape의 배열을 생성하고, 모든 요소를 fil_value 값으로 초기화"
   ]
  },
  {
   "cell_type": "code",
   "execution_count": 20,
   "id": "dc8cf5b2",
   "metadata": {},
   "outputs": [
    {
     "name": "stdout",
     "output_type": "stream",
     "text": [
      "type : <class 'numpy.ndarray'>\n",
      "shape: (2, 2), dimension:2, dtype:int32\n",
      "Array's Data : /n [[7 7]\n",
      " [7 7]]\n"
     ]
    }
   ],
   "source": [
    "a = np.full((2, 2), 7)\n",
    "pprint(a)"
   ]
  },
  {
   "cell_type": "markdown",
   "id": "2786a60d",
   "metadata": {},
   "source": [
    "#### np.eye(N, M=None, k=0, dtype=float)\n",
    " - (N, N) shape의 단위 행렬을 생성"
   ]
  },
  {
   "cell_type": "code",
   "execution_count": 21,
   "id": "a6d28670",
   "metadata": {},
   "outputs": [
    {
     "data": {
      "text/plain": [
       "array([[1., 0., 0., 0.],\n",
       "       [0., 1., 0., 0.],\n",
       "       [0., 0., 1., 0.],\n",
       "       [0., 0., 0., 1.]])"
      ]
     },
     "execution_count": 21,
     "metadata": {},
     "output_type": "execute_result"
    }
   ],
   "source": [
    "np.eye(4)"
   ]
  },
  {
   "cell_type": "markdown",
   "id": "7bf9351a",
   "metadata": {},
   "source": [
    "#### np.empty(shape, dtype=float, order='C')\n",
    " - 지정된 shape의 배열 생성\n",
    " - 요소의 초기화 과정이 없고, 기존 메모리값을 그대로  사용\n",
    " - 배열 생성비용이 가장 저렴하고 빠르다"
   ]
  },
  {
   "cell_type": "code",
   "execution_count": 22,
   "id": "595f6034",
   "metadata": {},
   "outputs": [
    {
     "name": "stdout",
     "output_type": "stream",
     "text": [
      "type : <class 'numpy.ndarray'>\n",
      "shape: (4, 2), dimension:2, dtype:float64\n",
      "Array's Data : /n [[0.00000000e+000 0.00000000e+000]\n",
      " [0.00000000e+000 0.00000000e+000]\n",
      " [0.00000000e+000 7.07502005e-321]\n",
      " [1.42411517e-306 8.34446834e-308]]\n"
     ]
    }
   ],
   "source": [
    "a = np.empty((4,2))\n",
    "pprint(a)"
   ]
  },
  {
   "cell_type": "markdown",
   "id": "1a3a11ee",
   "metadata": {},
   "source": [
    "#### like 함수, ~ 처럼, ~ 같은\n",
    " - 지정된 배열과 shape이 같은 배열을 만드는 함수\n",
    " - np.zeros_like(기존에 만든 배열)\n",
    " - np.ones_like\n",
    " - np.full_like\n",
    " - np.empty_like"
   ]
  },
  {
   "cell_type": "code",
   "execution_count": 23,
   "id": "dffe2252",
   "metadata": {},
   "outputs": [
    {
     "name": "stdout",
     "output_type": "stream",
     "text": [
      "type : <class 'numpy.ndarray'>\n",
      "shape: (2, 3), dimension:2, dtype:int32\n",
      "Array's Data : /n [[1 1 1]\n",
      " [1 1 1]]\n"
     ]
    }
   ],
   "source": [
    "a = np.array([[1, 2, 3], [4, 5, 6]])\n",
    "b = np.ones_like(a)\n",
    "pprint(b)"
   ]
  },
  {
   "cell_type": "markdown",
   "id": "d94a272e",
   "metadata": {},
   "source": [
    "#### 난수 발생과 카운팅\n",
    " - 난수(random number): 파이썬을 이용하여 데이터를 무작위로 섞거나 임의의 수를 발생\n",
    " - 시드(seed): 주고 싶은 정수값(0이거나 0보다 큰 정수) 설정, 역할은 난수의 고정을 위해서다."
   ]
  },
  {
   "cell_type": "code",
   "execution_count": 24,
   "id": "0ef6b4fe",
   "metadata": {},
   "outputs": [],
   "source": [
    "# seed 설정\n",
    "np.random.seed(0)"
   ]
  },
  {
   "cell_type": "code",
   "execution_count": 25,
   "id": "eeebd6df",
   "metadata": {},
   "outputs": [
    {
     "data": {
      "text/plain": [
       "array([0.5488135 , 0.71518937, 0.60276338, 0.54488318, 0.4236548 ])"
      ]
     },
     "execution_count": 25,
     "metadata": {},
     "output_type": "execute_result"
    }
   ],
   "source": [
    "# rand(n): 0 ~ 1 사이의 난수를 n개 발생시키는 함수\n",
    "np.random.rand(5) "
   ]
  },
  {
   "cell_type": "code",
   "execution_count": 26,
   "id": "6100e72f",
   "metadata": {},
   "outputs": [
    {
     "data": {
      "text/plain": [
       "array([0.64589411, 0.43758721, 0.891773  , 0.96366276, 0.38344152,\n",
       "       0.79172504, 0.52889492, 0.56804456, 0.92559664, 0.07103606])"
      ]
     },
     "execution_count": 26,
     "metadata": {},
     "output_type": "execute_result"
    }
   ],
   "source": [
    "np.random.rand(10)"
   ]
  },
  {
   "cell_type": "code",
   "execution_count": 27,
   "id": "d6e6d8fc",
   "metadata": {},
   "outputs": [
    {
     "data": {
      "text/plain": [
       "array([0.0871293 , 0.0202184 , 0.83261985, 0.77815675, 0.87001215,\n",
       "       0.97861834, 0.79915856, 0.46147936, 0.78052918, 0.11827443])"
      ]
     },
     "execution_count": 27,
     "metadata": {},
     "output_type": "execute_result"
    }
   ],
   "source": [
    "np.random.rand(10)"
   ]
  },
  {
   "cell_type": "code",
   "execution_count": 28,
   "id": "3c68acc7",
   "metadata": {},
   "outputs": [],
   "source": [
    "np.random.seed(0)"
   ]
  },
  {
   "cell_type": "code",
   "execution_count": 29,
   "id": "0b6c36e7",
   "metadata": {},
   "outputs": [
    {
     "data": {
      "text/plain": [
       "array([0.5488135 , 0.71518937, 0.60276338, 0.54488318, 0.4236548 ])"
      ]
     },
     "execution_count": 29,
     "metadata": {},
     "output_type": "execute_result"
    }
   ],
   "source": [
    "np.random.rand(5)"
   ]
  },
  {
   "cell_type": "code",
   "execution_count": 30,
   "id": "95f0b269",
   "metadata": {},
   "outputs": [
    {
     "data": {
      "text/plain": [
       "array([0.64589411, 0.43758721, 0.891773  , 0.96366276, 0.38344152,\n",
       "       0.79172504, 0.52889492, 0.56804456, 0.92559664, 0.07103606])"
      ]
     },
     "execution_count": 30,
     "metadata": {},
     "output_type": "execute_result"
    }
   ],
   "source": [
    "np.random.rand(10)"
   ]
  },
  {
   "cell_type": "code",
   "execution_count": 31,
   "id": "0558ed97",
   "metadata": {},
   "outputs": [
    {
     "data": {
      "text/plain": [
       "array([0.0871293 , 0.0202184 , 0.83261985, 0.77815675, 0.87001215])"
      ]
     },
     "execution_count": 31,
     "metadata": {},
     "output_type": "execute_result"
    }
   ],
   "source": [
    "np.random.rand(5)"
   ]
  },
  {
   "cell_type": "markdown",
   "id": "df18a86d",
   "metadata": {},
   "source": [
    "#### 데이터의 순서 변경: shuffle"
   ]
  },
  {
   "cell_type": "code",
   "execution_count": 32,
   "id": "aaf78f19",
   "metadata": {},
   "outputs": [
    {
     "data": {
      "text/plain": [
       "array([0, 1, 2, 3, 4, 5, 6, 7, 8, 9])"
      ]
     },
     "execution_count": 32,
     "metadata": {},
     "output_type": "execute_result"
    }
   ],
   "source": [
    "x = np.arange(10) # 파이썬의 range와 비슷\n",
    "x"
   ]
  },
  {
   "cell_type": "code",
   "execution_count": 33,
   "id": "29136d28",
   "metadata": {},
   "outputs": [
    {
     "data": {
      "text/plain": [
       "array([7, 6, 9, 4, 5, 8, 1, 0, 3, 2])"
      ]
     },
     "execution_count": 33,
     "metadata": {},
     "output_type": "execute_result"
    }
   ],
   "source": [
    "np.random.shuffle(x)\n",
    "x"
   ]
  },
  {
   "cell_type": "markdown",
   "id": "ede63007",
   "metadata": {},
   "source": [
    "#### 데이터 샘플링: choice\n",
    " - np.random.choice(data, size=None, replace = True, p = None)\n",
    " - data: 원래의 데이터, arange(data)\n",
    " - size= 샘플 숫자\n",
    " - replace: True 한 번 선택한 데이터를 다시 선택 가능, 중복 추출 할건지\n",
    " - p: 각 데이터가 선택될 수 있는 확률"
   ]
  },
  {
   "cell_type": "code",
   "execution_count": 34,
   "id": "1dea1189",
   "metadata": {},
   "outputs": [
    {
     "data": {
      "text/plain": [
       "array([4, 2, 3, 1, 0])"
      ]
     },
     "execution_count": 34,
     "metadata": {},
     "output_type": "execute_result"
    }
   ],
   "source": [
    "np.random.choice(5, 5, replace = False) # 이렇게 쓰면 shuffle 명령과 같다"
   ]
  },
  {
   "cell_type": "code",
   "execution_count": 35,
   "id": "eae05574",
   "metadata": {},
   "outputs": [
    {
     "data": {
      "text/plain": [
       "array([1, 4, 2])"
      ]
     },
     "execution_count": 35,
     "metadata": {},
     "output_type": "execute_result"
    }
   ],
   "source": [
    "np.random.choice(5, 3, replace = False)"
   ]
  },
  {
   "cell_type": "code",
   "execution_count": 36,
   "id": "350fee18",
   "metadata": {},
   "outputs": [
    {
     "data": {
      "text/plain": [
       "array([3, 3, 2, 4, 2, 0, 0, 4, 0, 4])"
      ]
     },
     "execution_count": 36,
     "metadata": {},
     "output_type": "execute_result"
    }
   ],
   "source": [
    "np.random.choice(5, 10)"
   ]
  },
  {
   "cell_type": "code",
   "execution_count": 37,
   "id": "80f6148c",
   "metadata": {},
   "outputs": [
    {
     "data": {
      "text/plain": [
       "array([2, 3, 3, 3, 3, 0, 3, 3, 2, 2])"
      ]
     },
     "execution_count": 37,
     "metadata": {},
     "output_type": "execute_result"
    }
   ],
   "source": [
    "np.random.choice(5, 10, p= [0.1, 0, 0.3, 0.6, 0])\n",
    "# p는 앞의 숫자와 같아야됨(0, 1, 2, 3, 4)의 개별 확률, 확률의 합은 1이어야 한다.\n",
    "# 확률은 리스트로 묶는다.\n",
    "## shape만 튜플 형태"
   ]
  }
 ],
 "metadata": {
  "kernelspec": {
   "display_name": "Python 3 (ipykernel)",
   "language": "python",
   "name": "python3"
  },
  "language_info": {
   "codemirror_mode": {
    "name": "ipython",
    "version": 3
   },
   "file_extension": ".py",
   "mimetype": "text/x-python",
   "name": "python",
   "nbconvert_exporter": "python",
   "pygments_lexer": "ipython3",
   "version": "3.9.7"
  },
  "toc": {
   "base_numbering": 1,
   "nav_menu": {},
   "number_sections": true,
   "sideBar": true,
   "skip_h1_title": false,
   "title_cell": "Table of Contents",
   "title_sidebar": "Contents",
   "toc_cell": false,
   "toc_position": {},
   "toc_section_display": true,
   "toc_window_display": false
  }
 },
 "nbformat": 4,
 "nbformat_minor": 5
}
