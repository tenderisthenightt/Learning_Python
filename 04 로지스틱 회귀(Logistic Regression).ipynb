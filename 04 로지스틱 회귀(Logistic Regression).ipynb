{
 "cells": [
  {
   "cell_type": "markdown",
   "id": "4666b975",
   "metadata": {},
   "source": [
    "딥러닝에서 로지스틱 회귀를 제일 많이 쓰기때문에\n",
    "머신러닝에서는 기본적인것만 보고 넘어갈거"
   ]
  },
  {
   "cell_type": "markdown",
   "id": "d32ff16e",
   "metadata": {},
   "source": [
    "<모델>\n",
    "1. fit\n",
    "- 함수f(x)를 만들어내는 역할이 fit\n",
    "- 그니까 fit은 수식만 기억하고 수행함\n",
    "- 그 식을 적용하는건 transform이 함\n",
    "- 모델을 만들어내는 데이터가 train데이터\n",
    "- 우리가 지금하는건 지도학습(문제input와 답target이 다 있음)\n",
    "- 지도학습은 두개의 파라미터값을 가짐(문제input와 답target)\n",
    "- 문제:input(훈련용 train_input, train_target)\n",
    "2. predict\n",
    "- f(x)에 새로운 예측값을 집어넣음\n",
    "- 이 작업이 predict임 (예측값보여주는거)\n",
    "- 이렇게 결과가 만들어짐\n",
    "3. 평가지표(score...)\n",
    "- 이 모델의 성능을 알아보는게 score(평가지표)함수\n",
    "- 분류(정확도)\n",
    "- 예측(회귀)\n",
    "- ㄴR2에서는 결정계수라고 부름)"
   ]
  },
  {
   "cell_type": "markdown",
   "id": "fafc9098",
   "metadata": {},
   "source": [
    "<전처리>\n",
    "4. transform\n",
    "- fit함수를 쓰고 transform함수를 씀\n",
    "- target(정답/Species/종속변수)이 있고 이 타겟을 골라낼 특성데이터(문제/나머지컬럼들/독립변수)가 있는데\n",
    "- 0에서1사이로 단위를 맞추는거(왜냐면 그게 확률값이므로)\n",
    "- train_input데이터 하나만 작업하면 됨\n",
    "- target은 안넣음\n",
    "- 파라미터가 하나\n",
    "-\n",
    "- fit으로\n",
    "- 표준화를 시켜야할 컬럼들이 뭐있는지 찾고\n",
    "- 표준화를 시킴 (끝)\n",
    "- \n",
    "- 실제 데이터에 반영은 transform이 함"
   ]
  },
  {
   "cell_type": "markdown",
   "id": "e9b4383d",
   "metadata": {},
   "source": [
    "### 정은이 필기\n",
    "###학습을 시키는 알고리즘\n",
    "fit. tredict, score 이 세가지를 쓴다.\n",
    "\n",
    "함수 f(x)를 만드는 작업을 먼저한다 그게 분류가 됐든, 예측이 됐든\n",
    "이 함수를 만들어내는 역할 이 'fit' <- 이것을 모델이라고 한다.\n",
    "\n",
    "\n",
    "모델을 만들 때 사용하는 데이터 training data\n",
    "지도 학습은 (문제와 정답을 가지고 있어야 한다.)\n",
    "지도학습에서의 fit은 두개의 파라미터 값을 가지고 있다.(문제input(훈련이니깐 tarain의 input, 정답(target)\n",
    "\n",
    "score(정확도, 평가 지표)\n",
    "분류와 예측에서는 달리 표현\n",
    " 예측이라는 것은 회귀에서는 R2결정계수\n",
    " 분류에서는 정확도라고 표현  - score을 뽑아내는(계산하는)방식이 다르다.\n",
    " \n",
    " ###전처리는 fit, transform이라는 함수를 쓴다.\n",
    " (1) 표준화0에서 1로 맞춤(z value를 통해 정규화 시킴)\n",
    " 우리가 골라낼 target이 있고 특성이 있는 input이 있다.(input만 건들고 얘들만 맞춰)\n",
    " fit이라는 함수에 input을 넣는다. fit의 파라미터는 하나다.\n",
    " 표준화를 시켜야할 컬럼(특성)들이 무엇인지 찾는다\n",
    " 그러고 표준화를 시켜\n",
    " 실제 데이터의 반영은 transform이 한다."
   ]
  },
  {
   "cell_type": "code",
   "execution_count": 1,
   "id": "d6a1547a",
   "metadata": {},
   "outputs": [],
   "source": [
    "import numpy as np\n",
    "import pandas as pd\n",
    "import matplotlib.pyplot as plt"
   ]
  },
  {
   "cell_type": "markdown",
   "id": "053f9f7e",
   "metadata": {},
   "source": [
    "## 데이터 로딩"
   ]
  },
  {
   "cell_type": "code",
   "execution_count": 2,
   "id": "9de4b437",
   "metadata": {},
   "outputs": [
    {
     "data": {
      "text/html": [
       "<div>\n",
       "<style scoped>\n",
       "    .dataframe tbody tr th:only-of-type {\n",
       "        vertical-align: middle;\n",
       "    }\n",
       "\n",
       "    .dataframe tbody tr th {\n",
       "        vertical-align: top;\n",
       "    }\n",
       "\n",
       "    .dataframe thead th {\n",
       "        text-align: right;\n",
       "    }\n",
       "</style>\n",
       "<table border=\"1\" class=\"dataframe\">\n",
       "  <thead>\n",
       "    <tr style=\"text-align: right;\">\n",
       "      <th></th>\n",
       "      <th>Species</th>\n",
       "      <th>Weight</th>\n",
       "      <th>Length</th>\n",
       "      <th>Diagonal</th>\n",
       "      <th>Height</th>\n",
       "      <th>Width</th>\n",
       "    </tr>\n",
       "  </thead>\n",
       "  <tbody>\n",
       "    <tr>\n",
       "      <th>0</th>\n",
       "      <td>Bream</td>\n",
       "      <td>242.0</td>\n",
       "      <td>25.4</td>\n",
       "      <td>30.0</td>\n",
       "      <td>11.5200</td>\n",
       "      <td>4.0200</td>\n",
       "    </tr>\n",
       "    <tr>\n",
       "      <th>1</th>\n",
       "      <td>Bream</td>\n",
       "      <td>290.0</td>\n",
       "      <td>26.3</td>\n",
       "      <td>31.2</td>\n",
       "      <td>12.4800</td>\n",
       "      <td>4.3056</td>\n",
       "    </tr>\n",
       "    <tr>\n",
       "      <th>2</th>\n",
       "      <td>Bream</td>\n",
       "      <td>340.0</td>\n",
       "      <td>26.5</td>\n",
       "      <td>31.1</td>\n",
       "      <td>12.3778</td>\n",
       "      <td>4.6961</td>\n",
       "    </tr>\n",
       "    <tr>\n",
       "      <th>3</th>\n",
       "      <td>Bream</td>\n",
       "      <td>363.0</td>\n",
       "      <td>29.0</td>\n",
       "      <td>33.5</td>\n",
       "      <td>12.7300</td>\n",
       "      <td>4.4555</td>\n",
       "    </tr>\n",
       "    <tr>\n",
       "      <th>4</th>\n",
       "      <td>Bream</td>\n",
       "      <td>430.0</td>\n",
       "      <td>29.0</td>\n",
       "      <td>34.0</td>\n",
       "      <td>12.4440</td>\n",
       "      <td>5.1340</td>\n",
       "    </tr>\n",
       "  </tbody>\n",
       "</table>\n",
       "</div>"
      ],
      "text/plain": [
       "  Species  Weight  Length  Diagonal   Height   Width\n",
       "0   Bream   242.0    25.4      30.0  11.5200  4.0200\n",
       "1   Bream   290.0    26.3      31.2  12.4800  4.3056\n",
       "2   Bream   340.0    26.5      31.1  12.3778  4.6961\n",
       "3   Bream   363.0    29.0      33.5  12.7300  4.4555\n",
       "4   Bream   430.0    29.0      34.0  12.4440  5.1340"
      ]
     },
     "execution_count": 2,
     "metadata": {},
     "output_type": "execute_result"
    }
   ],
   "source": [
    "fish = pd.read_csv('C:/k_digital/source/data/fish.csv')\n",
    "fish.head()"
   ]
  },
  {
   "cell_type": "code",
   "execution_count": 3,
   "id": "71ebd1be",
   "metadata": {},
   "outputs": [],
   "source": [
    "# 데이터를 보면 처음 드는 생각은\n",
    "# 단위가 다르니까 피쳐 스케일링을 해야겠다"
   ]
  },
  {
   "cell_type": "code",
   "execution_count": 4,
   "id": "a2c1c71c",
   "metadata": {},
   "outputs": [
    {
     "data": {
      "text/plain": [
       "array(['Bream', 'Roach', 'Whitefish', 'Parkki', 'Perch', 'Pike', 'Smelt'],\n",
       "      dtype=object)"
      ]
     },
     "execution_count": 4,
     "metadata": {},
     "output_type": "execute_result"
    }
   ],
   "source": [
    "# 어떤 물고기 종류가 있는지 살펴보기\n",
    "fish['Species'].unique()\n",
    "# 파이썬이 제공하는 함수\n",
    "# 중복을 제거하고 고유값만 보여줌"
   ]
  },
  {
   "cell_type": "code",
   "execution_count": 5,
   "id": "24b5935a",
   "metadata": {},
   "outputs": [
    {
     "data": {
      "text/plain": [
       "array(['Bream', 'Roach', 'Whitefish', 'Parkki', 'Perch', 'Pike', 'Smelt'],\n",
       "      dtype=object)"
      ]
     },
     "execution_count": 5,
     "metadata": {},
     "output_type": "execute_result"
    }
   ],
   "source": [
    "pd.unique(fish['Species'])\n",
    "# 판다스도 제공함"
   ]
  },
  {
   "cell_type": "code",
   "execution_count": null,
   "id": "876448ed",
   "metadata": {},
   "outputs": [],
   "source": [
    "# Species가 target 데이터가 되고 나머지가 input 데이터가 될꺼임\n",
    "# 데이터를 쪼개야 됨"
   ]
  },
  {
   "cell_type": "code",
   "execution_count": null,
   "id": "74435cf4",
   "metadata": {},
   "outputs": [],
   "source": [
    "# 머신으로 돌리려면 넘파이배열로 바꿔야함(데이터프레임)"
   ]
  },
  {
   "cell_type": "code",
   "execution_count": 8,
   "id": "689b9851",
   "metadata": {},
   "outputs": [],
   "source": [
    "fish_input = fish[['Weight','Length','Diagonal','Height','Width']].to_numpy()\n",
    "# input데이터 뜯어내고\n",
    "# 넘파이로 바꾸기"
   ]
  },
  {
   "cell_type": "code",
   "execution_count": 9,
   "id": "bbc65b1e",
   "metadata": {},
   "outputs": [
    {
     "data": {
      "text/plain": [
       "array([[242.    ,  25.4   ,  30.    ,  11.52  ,   4.02  ],\n",
       "       [290.    ,  26.3   ,  31.2   ,  12.48  ,   4.3056],\n",
       "       [340.    ,  26.5   ,  31.1   ,  12.3778,   4.6961],\n",
       "       [363.    ,  29.    ,  33.5   ,  12.73  ,   4.4555],\n",
       "       [430.    ,  29.    ,  34.    ,  12.444 ,   5.134 ]])"
      ]
     },
     "execution_count": 9,
     "metadata": {},
     "output_type": "execute_result"
    }
   ],
   "source": [
    "# 잘뜯어왔는지 보기\n",
    "fish_input[:5]"
   ]
  },
  {
   "cell_type": "code",
   "execution_count": 10,
   "id": "bda00257",
   "metadata": {},
   "outputs": [],
   "source": [
    "fish_target = fish['Species'].to_numpy()\n",
    "# target 데이터도 뜯어내고 넘파이로 바꾸기"
   ]
  },
  {
   "cell_type": "code",
   "execution_count": 13,
   "id": "29ca8ac0",
   "metadata": {},
   "outputs": [
    {
     "data": {
      "text/plain": [
       "array(['Bream', 'Bream', 'Bream', 'Bream', 'Bream'], dtype=object)"
      ]
     },
     "execution_count": 13,
     "metadata": {},
     "output_type": "execute_result"
    }
   ],
   "source": [
    "# 확인\n",
    "fish_target[:5]"
   ]
  },
  {
   "cell_type": "markdown",
   "id": "a8c51b6b",
   "metadata": {},
   "source": [
    "## 훈련세트와 테스트세트로 분리"
   ]
  },
  {
   "cell_type": "code",
   "execution_count": 14,
   "id": "3467718c",
   "metadata": {},
   "outputs": [],
   "source": [
    "from sklearn.model_selection import train_test_split\n",
    "train_input, test_input, train_target, test_target = train_test_split(\n",
    "    fish_input, fish_target, random_state=42)\n",
    "\n",
    "# random_state=42 : seed 값 고정하는거랑 동일\n",
    "# 여러번 수행해도 같은 값을 출력받기 위해\n",
    "# 0이상의 정수값은 뭐든지 ok\n",
    "# 머신러닝가면 X-train, y-train, X-test, y-test로 쓰는데\n",
    "# X:입력 y:출력 을 이해하기 쉬우라고 관용적 표현\n",
    "# train_input, test_input, train_target, test_target으로 쓰는거"
   ]
  },
  {
   "cell_type": "markdown",
   "id": "881b2304",
   "metadata": {},
   "source": [
    "## 피처 스케일링"
   ]
  },
  {
   "cell_type": "code",
   "execution_count": null,
   "id": "90672d22",
   "metadata": {},
   "outputs": [],
   "source": [
    "# 피쳐스케일링"
   ]
  },
  {
   "cell_type": "code",
   "execution_count": 15,
   "id": "8c4d0f07",
   "metadata": {},
   "outputs": [],
   "source": [
    "from sklearn.preprocessing import StandardScaler\n",
    "ss = StandardScaler()\n",
    "# 앞글자 대문자 : 클래스\n",
    "# 클래스는 인스턴스 객체가 필요하니까 ss로 만들어줌\n",
    "ss.fit(train_input)\n",
    "# 데이터를 두개로 쪼갯지만 똑같은 특성을 둘 다 갖고잇음\n",
    "# fit은 train_input 데이터 하나만 적용하면 됨\n",
    "# fit은 특성을 찾는것만 하고\n",
    "# 적용은 transform이 함\n",
    "train_scaled = ss.transform(train_input)\n",
    "test_scaled = ss.transform(test_input)\n",
    "# 이렇게하면 train_input, test_input 모두 스케일한거"
   ]
  },
  {
   "cell_type": "code",
   "execution_count": null,
   "id": "9c9da6aa",
   "metadata": {},
   "outputs": [],
   "source": [
    "# 다섯개의 피쳐값들이 품종을 결정하는데 얼마나 영향이 있을까?\n",
    "# 상관분석으로 관련이 있는지 확인하기"
   ]
  },
  {
   "cell_type": "markdown",
   "id": "7eeb0689",
   "metadata": {},
   "source": [
    "## k-최근접 이웃 분류기를 이용한 확률 예측"
   ]
  },
  {
   "cell_type": "code",
   "execution_count": 16,
   "id": "ae2cc7f9",
   "metadata": {},
   "outputs": [
    {
     "name": "stdout",
     "output_type": "stream",
     "text": [
      "0.8907563025210085\n",
      "0.85\n"
     ]
    }
   ],
   "source": [
    "from sklearn.neighbors import KNeighborsClassifier\n",
    "knn = KNeighborsClassifier(n_neighbors = 3)\n",
    "# 기본값은 5갠데 3개만 줌\n",
    "# 복잡하게 만드려고 이웃을 적게 함\n",
    "# 모델을 복잡하게 만든다 == 과대적합을 피한다\n",
    "\n",
    "knn.fit(train_scaled, train_target)\n",
    "# 학습시키는데\n",
    "# 위에서 스케일링한 데이터를 넣되 문제와 정답이 다 들어감\n",
    "\n",
    "print(knn.score(train_scaled, train_target))\n",
    "print(knn.score(test_scaled, test_target))\n",
    "# 점수가 낮아도 지금은 확률을 가지고 예측하는거기때문에 신경안써도 됨"
   ]
  },
  {
   "cell_type": "code",
   "execution_count": 17,
   "id": "541d1399",
   "metadata": {},
   "outputs": [],
   "source": [
    "# 일곱개의 생선을 다섯개의 특성으로 분류\n",
    "# 다중분류"
   ]
  },
  {
   "cell_type": "code",
   "execution_count": 18,
   "id": "28573ba5",
   "metadata": {},
   "outputs": [
    {
     "data": {
      "text/plain": [
       "array(['Bream', 'Parkki', 'Perch', 'Pike', 'Roach', 'Smelt', 'Whitefish'],\n",
       "      dtype=object)"
      ]
     },
     "execution_count": 18,
     "metadata": {},
     "output_type": "execute_result"
    }
   ],
   "source": [
    "knn.classes_\n",
    "# _ : 언더스코어라고 부름. 학습으로 새롭게 만들어진거. _가 붙으며 표시된다\n",
    "# 처음에 unique로 뽑은 결과와 내용은 같은데 순서가 다름\n",
    "# 타깃값은 알파벳순서로 되어있음"
   ]
  },
  {
   "cell_type": "code",
   "execution_count": 19,
   "id": "1db893f0",
   "metadata": {},
   "outputs": [
    {
     "data": {
      "text/plain": [
       "array(['Perch', 'Smelt', 'Pike', 'Perch', 'Perch'], dtype=object)"
      ]
     },
     "execution_count": 19,
     "metadata": {},
     "output_type": "execute_result"
    }
   ],
   "source": [
    "knn.predict(test_scaled[:5])\n",
    "# knn의 predict라는 함수로 예측값 보기\n",
    "# 테스트데이터(스케일링한거)의 다섯개만"
   ]
  },
  {
   "cell_type": "code",
   "execution_count": 21,
   "id": "0ab8930f",
   "metadata": {},
   "outputs": [
    {
     "data": {
      "text/plain": [
       "array([[0.    , 0.    , 1.    , 0.    , 0.    , 0.    , 0.    ],\n",
       "       [0.    , 0.    , 0.    , 0.    , 0.    , 1.    , 0.    ],\n",
       "       [0.    , 0.    , 0.    , 1.    , 0.    , 0.    , 0.    ],\n",
       "       [0.    , 0.    , 0.6667, 0.    , 0.3333, 0.    , 0.    ],\n",
       "       [0.    , 0.    , 0.6667, 0.    , 0.3333, 0.    , 0.    ]])"
      ]
     },
     "execution_count": 21,
     "metadata": {},
     "output_type": "execute_result"
    }
   ],
   "source": [
    "# 왜 ['Perch', 'Smelt', 'Pike', 'Perch', 'Perch']로 나왓는지 확률을 보자\n",
    "# predict_proba() : 클래스별 확률값을 반환해주는 메서드\n",
    "proba = knn.predict_proba(test_scaled[:5])\n",
    "\n",
    "# 확률이라 소숫점 자리수가 길 수 있어서 반올림도 함\n",
    "np.round(proba, decimals=4)\n",
    "# 넘파이의 round함수는 쓰는 법이 좀 다름\n",
    "# decimals : 유지할 소숫점 자릿수\n",
    "\n",
    "# 결과값의 한 줄이 knn.classes_의 값\n",
    "# ['Bream', 'Parkki', 'Perch', 'Pike', 'Roach', 'Smelt', 'Whitefish']"
   ]
  },
  {
   "cell_type": "code",
   "execution_count": 22,
   "id": "418c75c7",
   "metadata": {},
   "outputs": [],
   "source": [
    "# 이렇게 계산된 확률이 진짜 맞을까?\n",
    "# 다시 확인하기 위해 이웃을 분석해보자"
   ]
  },
  {
   "cell_type": "code",
   "execution_count": 23,
   "id": "34ae65f7",
   "metadata": {},
   "outputs": [
    {
     "data": {
      "text/plain": [
       "array([['Roach', 'Perch', 'Perch']], dtype=object)"
      ]
     },
     "execution_count": 23,
     "metadata": {},
     "output_type": "execute_result"
    }
   ],
   "source": [
    "# 거리와 인덱스 가져오기\n",
    "distances, indexes = knn.kneighbors(test_scaled[3:4])\n",
    "# test_scaled[3:4] 이렇게쓰면 인덱스가 3인 애만 가져옴\n",
    "\n",
    "train_target[indexes]\n",
    "# 저 인덱스에 해당하는것만 추출\n",
    "# 이웃수를 3으로 줘서 세개가 뜸\n",
    "# 값을 보니 분류가 잘된것같음\n",
    "# 그런데 이웃수 3으로 예측한게 올바른 확률이라고 얘기하기 어려움\n",
    "# 이웃수를 늘리면 일반화가 떨어지고..\n",
    "# 그래서 우리는 로지스틱 회귀를 배운다"
   ]
  },
  {
   "cell_type": "raw",
   "id": "1c1e3480",
   "metadata": {},
   "source": [
    "## 로지스틱 회귀\n",
    "- 대표적인 분류 알고리즘\n",
    "- 인공신경망의 기본이 되는 알고리즘\n",
    "- 선형회귀와 비슷하게 선형 방정식을 학습하는 알고리즘이다"
   ]
  },
  {
   "cell_type": "markdown",
   "id": "eb8bcca4",
   "metadata": {},
   "source": [
    "### 로지스틱 회귀(이진 분류)"
   ]
  },
  {
   "cell_type": "code",
   "execution_count": 27,
   "id": "30887359",
   "metadata": {},
   "outputs": [
    {
     "data": {
      "text/plain": [
       "array(['A', 'C'], dtype='<U1')"
      ]
     },
     "execution_count": 27,
     "metadata": {},
     "output_type": "execute_result"
    }
   ],
   "source": [
    "arr = np.array(['A', 'B', 'C', 'D', 'E'])\n",
    "# 넘파이 배열에서 A와 C만 떼어내고 싶을때\n",
    "# boolean indexing 불린값을 가지고 인덱싱 처리하는거\n",
    "boolean = [True, False, True, False, False]\n",
    "arr[boolean]"
   ]
  },
  {
   "cell_type": "code",
   "execution_count": 26,
   "id": "cd1e30a1",
   "metadata": {},
   "outputs": [
    {
     "data": {
      "text/html": [
       "<div>\n",
       "<style scoped>\n",
       "    .dataframe tbody tr th:only-of-type {\n",
       "        vertical-align: middle;\n",
       "    }\n",
       "\n",
       "    .dataframe tbody tr th {\n",
       "        vertical-align: top;\n",
       "    }\n",
       "\n",
       "    .dataframe thead th {\n",
       "        text-align: right;\n",
       "    }\n",
       "</style>\n",
       "<table border=\"1\" class=\"dataframe\">\n",
       "  <thead>\n",
       "    <tr style=\"text-align: right;\">\n",
       "      <th></th>\n",
       "      <th>Species</th>\n",
       "      <th>Weight</th>\n",
       "      <th>Length</th>\n",
       "      <th>Diagonal</th>\n",
       "      <th>Height</th>\n",
       "      <th>Width</th>\n",
       "    </tr>\n",
       "  </thead>\n",
       "  <tbody>\n",
       "    <tr>\n",
       "      <th>0</th>\n",
       "      <td>Bream</td>\n",
       "      <td>242.0</td>\n",
       "      <td>25.4</td>\n",
       "      <td>30.0</td>\n",
       "      <td>11.5200</td>\n",
       "      <td>4.0200</td>\n",
       "    </tr>\n",
       "    <tr>\n",
       "      <th>1</th>\n",
       "      <td>Bream</td>\n",
       "      <td>290.0</td>\n",
       "      <td>26.3</td>\n",
       "      <td>31.2</td>\n",
       "      <td>12.4800</td>\n",
       "      <td>4.3056</td>\n",
       "    </tr>\n",
       "    <tr>\n",
       "      <th>2</th>\n",
       "      <td>Bream</td>\n",
       "      <td>340.0</td>\n",
       "      <td>26.5</td>\n",
       "      <td>31.1</td>\n",
       "      <td>12.3778</td>\n",
       "      <td>4.6961</td>\n",
       "    </tr>\n",
       "    <tr>\n",
       "      <th>3</th>\n",
       "      <td>Bream</td>\n",
       "      <td>363.0</td>\n",
       "      <td>29.0</td>\n",
       "      <td>33.5</td>\n",
       "      <td>12.7300</td>\n",
       "      <td>4.4555</td>\n",
       "    </tr>\n",
       "    <tr>\n",
       "      <th>4</th>\n",
       "      <td>Bream</td>\n",
       "      <td>430.0</td>\n",
       "      <td>29.0</td>\n",
       "      <td>34.0</td>\n",
       "      <td>12.4440</td>\n",
       "      <td>5.1340</td>\n",
       "    </tr>\n",
       "  </tbody>\n",
       "</table>\n",
       "</div>"
      ],
      "text/plain": [
       "  Species  Weight  Length  Diagonal   Height   Width\n",
       "0   Bream   242.0    25.4      30.0  11.5200  4.0200\n",
       "1   Bream   290.0    26.3      31.2  12.4800  4.3056\n",
       "2   Bream   340.0    26.5      31.1  12.3778  4.6961\n",
       "3   Bream   363.0    29.0      33.5  12.7300  4.4555\n",
       "4   Bream   430.0    29.0      34.0  12.4440  5.1340"
      ]
     },
     "execution_count": 26,
     "metadata": {},
     "output_type": "execute_result"
    }
   ],
   "source": [
    "fish.head()"
   ]
  },
  {
   "cell_type": "code",
   "execution_count": 28,
   "id": "96a5cf0a",
   "metadata": {},
   "outputs": [],
   "source": [
    "# Bream, Smelt 이 데이터만 이용한 이진분류 학습\n",
    "# Bream, Smelt만 떼오는 방법\n",
    "indexes = (train_target == 'Bream') | (train_target == 'Smelt')\n",
    "\n",
    "# 담기\n",
    "train = train_scaled[indexes]\n",
    "target = train_target[indexes]\n",
    "# train으로 학습하고 test로 검사할건데\n",
    "# 일단은 train만 쓸거니까 스케일링하고 변수에 담는거\n",
    "# 지금은 fit하기 전. 이제 변수에 담아서 쓸거임"
   ]
  },
  {
   "cell_type": "code",
   "execution_count": 30,
   "id": "f8bd338a",
   "metadata": {},
   "outputs": [
    {
     "name": "stdout",
     "output_type": "stream",
     "text": [
      "(40, 5) (40,)\n"
     ]
    }
   ],
   "source": [
    "print(test_input.shape, test_target.shape)\n",
    "# 관측데이터는 40개가 있었고"
   ]
  },
  {
   "cell_type": "code",
   "execution_count": 31,
   "id": "59e87590",
   "metadata": {},
   "outputs": [
    {
     "name": "stdout",
     "output_type": "stream",
     "text": [
      "(119, 5) (119,)\n"
     ]
    }
   ],
   "source": [
    "print(train_input.shape, train_target.shape)\n",
    "# 트레인 데이터는 119개가 있음"
   ]
  },
  {
   "cell_type": "code",
   "execution_count": 35,
   "id": "aac26b31",
   "metadata": {},
   "outputs": [
    {
     "data": {
      "text/plain": [
       "LogisticRegression()"
      ]
     },
     "execution_count": 35,
     "metadata": {},
     "output_type": "execute_result"
    }
   ],
   "source": [
    "from sklearn.linear_model import LogisticRegression\n",
    "lr = LogisticRegression()\n",
    "# 지금은 파라미터 안줌\n",
    "\n",
    "# 피팅하기\n",
    "lr.fit(train, target)"
   ]
  },
  {
   "cell_type": "code",
   "execution_count": 36,
   "id": "846c3a74",
   "metadata": {},
   "outputs": [
    {
     "data": {
      "text/plain": [
       "array(['Bream', 'Smelt', 'Bream', 'Bream', 'Bream'], dtype=object)"
      ]
     },
     "execution_count": 36,
     "metadata": {},
     "output_type": "execute_result"
    }
   ],
   "source": [
    "lr.predict(train[:5])\n",
    "# predict를 이용해서 다섯개만 예측값 보기"
   ]
  },
  {
   "cell_type": "code",
   "execution_count": 38,
   "id": "4621a7dc",
   "metadata": {},
   "outputs": [
    {
     "data": {
      "text/plain": [
       "array(['Bream', 'Smelt'], dtype=object)"
      ]
     },
     "execution_count": 38,
     "metadata": {},
     "output_type": "execute_result"
    }
   ],
   "source": [
    "lr.classes_\n",
    "# 아까 클래스에 담앗던거 어떻게 담겻는지 확인\n",
    "# 언버스코어(언더바)는 피팅을 통해 만들어진거(재확인)\n",
    "# 첫번째가 bream\n",
    "# 두번째가 smelt"
   ]
  },
  {
   "cell_type": "code",
   "execution_count": 37,
   "id": "3c283d08",
   "metadata": {},
   "outputs": [
    {
     "data": {
      "text/plain": [
       "array([[0.99759855, 0.00240145],\n",
       "       [0.02735183, 0.97264817],\n",
       "       [0.99486072, 0.00513928],\n",
       "       [0.98584202, 0.01415798],\n",
       "       [0.99767269, 0.00232731]])"
      ]
     },
     "execution_count": 37,
     "metadata": {},
     "output_type": "execute_result"
    }
   ],
   "source": [
    "# 예측확률 보기\n",
    "# 트레인 데이터 5개만\n",
    "lr.predict_proba(train[:5])\n",
    "# 나온 결과값의 왼쪽이 음성 오른쪽이 양성 확률임\n",
    "# 둘을 합치면 1"
   ]
  },
  {
   "cell_type": "code",
   "execution_count": 39,
   "id": "ed26cd67",
   "metadata": {},
   "outputs": [
    {
     "name": "stdout",
     "output_type": "stream",
     "text": [
      "[[-0.4037798  -0.57620209 -0.66280298 -1.01290277 -0.73168947]] [-2.16155132]\n"
     ]
    }
   ],
   "source": [
    "# 기울기와 절편도 골라낼수잇음\n",
    "print(lr.coef_, lr.intercept_)\n",
    "# 다섯개의 관측값에 대한 가중치(기울기)와 절편"
   ]
  },
  {
   "cell_type": "code",
   "execution_count": 40,
   "id": "fe97d6fc",
   "metadata": {},
   "outputs": [
    {
     "data": {
      "text/html": [
       "<div>\n",
       "<style scoped>\n",
       "    .dataframe tbody tr th:only-of-type {\n",
       "        vertical-align: middle;\n",
       "    }\n",
       "\n",
       "    .dataframe tbody tr th {\n",
       "        vertical-align: top;\n",
       "    }\n",
       "\n",
       "    .dataframe thead th {\n",
       "        text-align: right;\n",
       "    }\n",
       "</style>\n",
       "<table border=\"1\" class=\"dataframe\">\n",
       "  <thead>\n",
       "    <tr style=\"text-align: right;\">\n",
       "      <th></th>\n",
       "      <th>Species</th>\n",
       "      <th>Weight</th>\n",
       "      <th>Length</th>\n",
       "      <th>Diagonal</th>\n",
       "      <th>Height</th>\n",
       "      <th>Width</th>\n",
       "    </tr>\n",
       "  </thead>\n",
       "  <tbody>\n",
       "    <tr>\n",
       "      <th>0</th>\n",
       "      <td>Bream</td>\n",
       "      <td>242.0</td>\n",
       "      <td>25.4</td>\n",
       "      <td>30.0</td>\n",
       "      <td>11.5200</td>\n",
       "      <td>4.0200</td>\n",
       "    </tr>\n",
       "    <tr>\n",
       "      <th>1</th>\n",
       "      <td>Bream</td>\n",
       "      <td>290.0</td>\n",
       "      <td>26.3</td>\n",
       "      <td>31.2</td>\n",
       "      <td>12.4800</td>\n",
       "      <td>4.3056</td>\n",
       "    </tr>\n",
       "    <tr>\n",
       "      <th>2</th>\n",
       "      <td>Bream</td>\n",
       "      <td>340.0</td>\n",
       "      <td>26.5</td>\n",
       "      <td>31.1</td>\n",
       "      <td>12.3778</td>\n",
       "      <td>4.6961</td>\n",
       "    </tr>\n",
       "    <tr>\n",
       "      <th>3</th>\n",
       "      <td>Bream</td>\n",
       "      <td>363.0</td>\n",
       "      <td>29.0</td>\n",
       "      <td>33.5</td>\n",
       "      <td>12.7300</td>\n",
       "      <td>4.4555</td>\n",
       "    </tr>\n",
       "    <tr>\n",
       "      <th>4</th>\n",
       "      <td>Bream</td>\n",
       "      <td>430.0</td>\n",
       "      <td>29.0</td>\n",
       "      <td>34.0</td>\n",
       "      <td>12.4440</td>\n",
       "      <td>5.1340</td>\n",
       "    </tr>\n",
       "  </tbody>\n",
       "</table>\n",
       "</div>"
      ],
      "text/plain": [
       "  Species  Weight  Length  Diagonal   Height   Width\n",
       "0   Bream   242.0    25.4      30.0  11.5200  4.0200\n",
       "1   Bream   290.0    26.3      31.2  12.4800  4.3056\n",
       "2   Bream   340.0    26.5      31.1  12.3778  4.6961\n",
       "3   Bream   363.0    29.0      33.5  12.7300  4.4555\n",
       "4   Bream   430.0    29.0      34.0  12.4440  5.1340"
      ]
     },
     "execution_count": 40,
     "metadata": {},
     "output_type": "execute_result"
    }
   ],
   "source": [
    "fish.head()\n",
    "# 특성 순서대로 위에 나온 가중치에 곱함"
   ]
  },
  {
   "cell_type": "code",
   "execution_count": 42,
   "id": "d6a9befa",
   "metadata": {},
   "outputs": [
    {
     "data": {
      "text/plain": [
       "array([-6.02927744,  3.57123907, -5.26568906, -4.24321775, -6.0607117 ])"
      ]
     },
     "execution_count": 42,
     "metadata": {},
     "output_type": "execute_result"
    }
   ],
   "source": [
    "# z값 계산\n",
    "# train데이터 다섯개만\n",
    "decisions = lr.decision_function(train[:5])\n",
    "decisions\n",
    "# z값은 -무한대 +무한대로 가기때문에 이대로 못쓰고\n",
    "# 로지스틱함수/시그모이드 함수를 통과시켜서 0~1사이 확률값으로 바꿔서 쓴다"
   ]
  },
  {
   "cell_type": "code",
   "execution_count": 44,
   "id": "46b8c7a7",
   "metadata": {},
   "outputs": [
    {
     "data": {
      "text/plain": [
       "array([0.00240145, 0.97264817, 0.00513928, 0.01415798, 0.00232731])"
      ]
     },
     "execution_count": 44,
     "metadata": {},
     "output_type": "execute_result"
    }
   ],
   "source": [
    "# 시그모이드 함수를 통해 확률값 추출\n",
    "# 공식은 얘가 갖고있다 굿\n",
    "from scipy.special import expit\n",
    "expit(decisions)\n",
    "# 나온 확률값은 lr.predict_proba(train[:5])의 양성값(오른쪽)값과 똑같다\n",
    "# 음성값은 1에서 양성값을 뺀것과 같다"
   ]
  },
  {
   "cell_type": "markdown",
   "id": "b1b7f7fc",
   "metadata": {},
   "source": [
    "## 로지스틱 회귀(다중 분류)"
   ]
  },
  {
   "cell_type": "code",
   "execution_count": 47,
   "id": "6acd10b0",
   "metadata": {},
   "outputs": [
    {
     "name": "stdout",
     "output_type": "stream",
     "text": [
      "0.9327731092436975\n",
      "0.925\n"
     ]
    }
   ],
   "source": [
    "from sklearn.linear_model import LogisticRegression\n",
    "lr = LogisticRegression(C=20, max_iter=1000) \n",
    "# C의 기본값은 1인데 좀 복잡한 모델을 만들기위해서 20을 줘서 규제줄임\n",
    "# C는 알파와 반대로 작을수록 규제가 커짐\n",
    "# max_lter 데이터가 많이때문에 각각의 데이터에 대한 클래스를 만들어줌\n",
    "# 기본값은 100인데 부족할까봐 1000해줌\n",
    "# 데이터가 많아졌기 때문에 ()안에 파라미터값을 조정해야됨lr.fit(train_scaled, train_target)\n",
    "print(lr.score(train_scaled, train_target))\n",
    "print(lr.score(test_scaled, test_target))"
   ]
  },
  {
   "cell_type": "code",
   "execution_count": 48,
   "id": "068cfac1",
   "metadata": {},
   "outputs": [
    {
     "data": {
      "text/plain": [
       "array(['Perch', 'Smelt', 'Pike', 'Roach', 'Perch'], dtype=object)"
      ]
     },
     "execution_count": 48,
     "metadata": {},
     "output_type": "execute_result"
    }
   ],
   "source": [
    "lr.predict(test_scaled[:5])"
   ]
  },
  {
   "cell_type": "code",
   "execution_count": 49,
   "id": "7d17421f",
   "metadata": {},
   "outputs": [
    {
     "data": {
      "text/plain": [
       "array([[0.   , 0.014, 0.841, 0.   , 0.136, 0.007, 0.003],\n",
       "       [0.   , 0.003, 0.044, 0.   , 0.007, 0.946, 0.   ],\n",
       "       [0.   , 0.   , 0.034, 0.935, 0.015, 0.016, 0.   ],\n",
       "       [0.011, 0.034, 0.306, 0.007, 0.567, 0.   , 0.076],\n",
       "       [0.   , 0.   , 0.904, 0.002, 0.089, 0.002, 0.001]])"
      ]
     },
     "execution_count": 49,
     "metadata": {},
     "output_type": "execute_result"
    }
   ],
   "source": [
    "proba = lr.predict_proba(test_scaled[:5])\n",
    "np.round(proba, decimals=3)\n",
    "# 소숫점이하 셋째자리까지 표시(넷째자리에서반올림)\n",
    "# 생선이 일곱종류가 일곱개 나옴\n",
    "\n",
    "# 얘는 소프트맥스가 끝임..\n",
    "# 엥?"
   ]
  },
  {
   "cell_type": "code",
   "execution_count": 50,
   "id": "8211e757",
   "metadata": {},
   "outputs": [
    {
     "data": {
      "text/plain": [
       "array(['Bream', 'Parkki', 'Perch', 'Pike', 'Roach', 'Smelt', 'Whitefish'],\n",
       "      dtype=object)"
      ]
     },
     "execution_count": 50,
     "metadata": {},
     "output_type": "execute_result"
    }
   ],
   "source": [
    "lr.classes_\n",
    "# 모델을 학습시켜서 생겨나는 변수라 _가 붙어잇음\n",
    "# 위에랑 맞춰보면 잘 맞음"
   ]
  },
  {
   "cell_type": "code",
   "execution_count": null,
   "id": "04d6275f",
   "metadata": {},
   "outputs": [],
   "source": []
  },
  {
   "cell_type": "code",
   "execution_count": null,
   "id": "17e84766",
   "metadata": {},
   "outputs": [],
   "source": []
  },
  {
   "cell_type": "code",
   "execution_count": null,
   "id": "1258437a",
   "metadata": {},
   "outputs": [],
   "source": []
  },
  {
   "cell_type": "code",
   "execution_count": null,
   "id": "78406c34",
   "metadata": {},
   "outputs": [],
   "source": []
  },
  {
   "cell_type": "code",
   "execution_count": null,
   "id": "db931ba4",
   "metadata": {},
   "outputs": [],
   "source": []
  }
 ],
 "metadata": {
  "kernelspec": {
   "display_name": "Python 3 (ipykernel)",
   "language": "python",
   "name": "python3"
  },
  "language_info": {
   "codemirror_mode": {
    "name": "ipython",
    "version": 3
   },
   "file_extension": ".py",
   "mimetype": "text/x-python",
   "name": "python",
   "nbconvert_exporter": "python",
   "pygments_lexer": "ipython3",
   "version": "3.9.7"
  },
  "toc": {
   "base_numbering": 1,
   "nav_menu": {},
   "number_sections": true,
   "sideBar": true,
   "skip_h1_title": false,
   "title_cell": "Table of Contents",
   "title_sidebar": "Contents",
   "toc_cell": false,
   "toc_position": {},
   "toc_section_display": true,
   "toc_window_display": false
  }
 },
 "nbformat": 4,
 "nbformat_minor": 5
}
